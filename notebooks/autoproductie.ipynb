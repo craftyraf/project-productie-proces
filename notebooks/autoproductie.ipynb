{
 "cells": [
  {
   "cell_type": "markdown",
   "metadata": {},
   "source": [
    "# Autproductie"
   ]
  },
  {
   "cell_type": "markdown",
   "metadata": {},
   "source": [
    "## Overzicht\n",
    "We kijken naar de dataset `cars.csv`, deze bevat informatie over de verkoop van 2e hands Volvo’s. We hebben hier een aantal vragen over, beantwoord deze vragen door een beetje code te schrijven en de antwoorden op te schrijven in een Jupyter Notebook."
   ]
  },
  {
   "cell_type": "code",
   "execution_count": 4,
   "metadata": {},
   "outputs": [],
   "source": [
    "# import necessary libraries\n",
    "import pandas as pd\n",
    "import os"
   ]
  },
  {
   "cell_type": "code",
   "execution_count": 7,
   "metadata": {},
   "outputs": [],
   "source": [
    "# import dataset\n",
    "df_cars = pd.read_csv(os.path.join('..', 'data', 'input', 'cars.csv'))"
   ]
  },
  {
   "cell_type": "code",
   "execution_count": 10,
   "metadata": {},
   "outputs": [
    {
     "name": "stdout",
     "output_type": "stream",
     "text": [
      "         manufacturer         model  year  mileage  \\\n",
      "138140      Chevrolet     Malibu LT  2021  56036.0   \n",
      "526817  Mercedes-Benz  GLA 250 Base  2021  29154.0   \n",
      "9248             Audi     RS 5 2.9T  2021  17541.0   \n",
      "\n",
      "                            engine                       transmission  \\\n",
      "138140  1.5L I4 16V GDI DOHC Turbo                      Automatic CVT   \n",
      "526817  2.0L I4 16V GDI DOHC Turbo  8-Speed Automatic with Auto-Shift   \n",
      "9248                          2.9L                  7-Speed Automatic   \n",
      "\n",
      "               drivetrain fuel_type    mpg          exterior_color  \\\n",
      "138140  Front-wheel Drive  Gasoline  29-36                   Black   \n",
      "526817  Front-wheel Drive  Gasoline  25-34  Patagonia Red Metallic   \n",
      "9248      All-wheel Drive  Gasoline  18-25    Audi Exclusive Color   \n",
      "\n",
      "         interior_color  accidents_or_damage  one_owner  personal_use_only  \\\n",
      "138140            Black                  0.0        1.0                0.0   \n",
      "526817  Macchiato Beige                  0.0        1.0                1.0   \n",
      "9248       Black / Gray                  0.0        1.0                1.0   \n",
      "\n",
      "                          seller_name  seller_rating  driver_rating  \\\n",
      "138140  Victory Motors - Chesterfield            NaN            4.9   \n",
      "526817     EchoPark Automotive Dallas            4.8            4.9   \n",
      "9248                   Audi Flatirons            4.8            4.9   \n",
      "\n",
      "        driver_reviews_num  price_drop    price  \n",
      "138140                 8.0      1000.0  20888.0  \n",
      "526817                19.0         NaN  33379.0  \n",
      "9248                   2.0       644.0  79000.0  \n"
     ]
    }
   ],
   "source": [
    "print(df_cars.sample(3))"
   ]
  },
  {
   "cell_type": "markdown",
   "metadata": {},
   "source": [
    "### Vraag 1:\n",
    "Wat voor soort data zijn `year`, `fuel_type` en `seller_rating`? Motiveer je antwoord."
   ]
  },
  {
   "cell_type": "code",
   "execution_count": 37,
   "metadata": {
    "vscode": {
     "languageId": "plaintext"
    }
   },
   "outputs": [
    {
     "name": "stdout",
     "output_type": "stream",
     "text": [
      "year               int64\n",
      "fuel_type         object\n",
      "seller_rating    float64\n",
      "price            float64\n",
      "dtype: object\n",
      "        year fuel_type  seller_rating\n",
      "747794  2021  Gasoline            4.6\n",
      "58714   2018  Gasoline            4.6\n",
      "618281  2018  Gasoline            NaN\n"
     ]
    }
   ],
   "source": [
    "# return types\n",
    "print(df_cars.loc[:,['year', 'fuel_type', 'seller_rating']].dtypes)\n",
    "\n",
    "# return sample data\n",
    "print(df_cars.loc[:,['year', 'fuel_type', 'seller_rating']].sample(3))"
   ]
  },
  {
   "cell_type": "markdown",
   "metadata": {},
   "source": [
    "### Vraag 2:\n",
    "Ik vraag me af hoe een gewoonlijke (mbt prijs) $2^e$ hands Volvo eruit ziet. Kan je deze zoeken en tonen?"
   ]
  },
  {
   "cell_type": "code",
   "execution_count": 51,
   "metadata": {
    "vscode": {
     "languageId": "plaintext"
    }
   },
   "outputs": [
    {
     "data": {
      "text/html": [
       "<div>\n",
       "<style scoped>\n",
       "    .dataframe tbody tr th:only-of-type {\n",
       "        vertical-align: middle;\n",
       "    }\n",
       "\n",
       "    .dataframe tbody tr th {\n",
       "        vertical-align: top;\n",
       "    }\n",
       "\n",
       "    .dataframe thead th {\n",
       "        text-align: right;\n",
       "    }\n",
       "</style>\n",
       "<table border=\"1\" class=\"dataframe\">\n",
       "  <thead>\n",
       "    <tr style=\"text-align: right;\">\n",
       "      <th></th>\n",
       "      <th>755471</th>\n",
       "    </tr>\n",
       "  </thead>\n",
       "  <tbody>\n",
       "    <tr>\n",
       "      <th>manufacturer</th>\n",
       "      <td>Volvo</td>\n",
       "    </tr>\n",
       "    <tr>\n",
       "      <th>model</th>\n",
       "      <td>XC40 R-Design</td>\n",
       "    </tr>\n",
       "    <tr>\n",
       "      <th>year</th>\n",
       "      <td>2020</td>\n",
       "    </tr>\n",
       "    <tr>\n",
       "      <th>mileage</th>\n",
       "      <td>35989.0</td>\n",
       "    </tr>\n",
       "    <tr>\n",
       "      <th>engine</th>\n",
       "      <td>I-4 cyl</td>\n",
       "    </tr>\n",
       "    <tr>\n",
       "      <th>transmission</th>\n",
       "      <td>Automatic with Geartronic</td>\n",
       "    </tr>\n",
       "    <tr>\n",
       "      <th>drivetrain</th>\n",
       "      <td>AWD</td>\n",
       "    </tr>\n",
       "    <tr>\n",
       "      <th>fuel_type</th>\n",
       "      <td>Gasoline</td>\n",
       "    </tr>\n",
       "    <tr>\n",
       "      <th>mpg</th>\n",
       "      <td>NaN</td>\n",
       "    </tr>\n",
       "    <tr>\n",
       "      <th>exterior_color</th>\n",
       "      <td>Onyx Black Metallic</td>\n",
       "    </tr>\n",
       "    <tr>\n",
       "      <th>interior_color</th>\n",
       "      <td>Charcoal</td>\n",
       "    </tr>\n",
       "    <tr>\n",
       "      <th>accidents_or_damage</th>\n",
       "      <td>0.0</td>\n",
       "    </tr>\n",
       "    <tr>\n",
       "      <th>one_owner</th>\n",
       "      <td>1.0</td>\n",
       "    </tr>\n",
       "    <tr>\n",
       "      <th>personal_use_only</th>\n",
       "      <td>1.0</td>\n",
       "    </tr>\n",
       "    <tr>\n",
       "      <th>seller_name</th>\n",
       "      <td>Borton Volvo Cars</td>\n",
       "    </tr>\n",
       "    <tr>\n",
       "      <th>seller_rating</th>\n",
       "      <td>4.0</td>\n",
       "    </tr>\n",
       "    <tr>\n",
       "      <th>driver_rating</th>\n",
       "      <td>4.9</td>\n",
       "    </tr>\n",
       "    <tr>\n",
       "      <th>driver_reviews_num</th>\n",
       "      <td>50.0</td>\n",
       "    </tr>\n",
       "    <tr>\n",
       "      <th>price_drop</th>\n",
       "      <td>NaN</td>\n",
       "    </tr>\n",
       "    <tr>\n",
       "      <th>price</th>\n",
       "      <td>36673.0</td>\n",
       "    </tr>\n",
       "  </tbody>\n",
       "</table>\n",
       "</div>"
      ],
      "text/plain": [
       "                                        755471\n",
       "manufacturer                             Volvo\n",
       "model                            XC40 R-Design\n",
       "year                                      2020\n",
       "mileage                                35989.0\n",
       "engine                                 I-4 cyl\n",
       "transmission         Automatic with Geartronic\n",
       "drivetrain                                 AWD\n",
       "fuel_type                             Gasoline\n",
       "mpg                                        NaN\n",
       "exterior_color             Onyx Black Metallic\n",
       "interior_color                        Charcoal\n",
       "accidents_or_damage                        0.0\n",
       "one_owner                                  1.0\n",
       "personal_use_only                          1.0\n",
       "seller_name                  Borton Volvo Cars\n",
       "seller_rating                              4.0\n",
       "driver_rating                              4.9\n",
       "driver_reviews_num                        50.0\n",
       "price_drop                                 NaN\n",
       "price                                  36673.0"
      ]
     },
     "execution_count": 51,
     "metadata": {},
     "output_type": "execute_result"
    }
   ],
   "source": [
    "# calculate median price\n",
    "avg_price_volvo = (df_cars[df_cars['manufacturer'] == 'Volvo']\n",
    "                   ['price'].median()\n",
    "                  )\n",
    "\n",
    "# get Volvo's with median price\n",
    "volvo_avg_price = df_cars[(df_cars['price'] == avg_price_volvo)\n",
    "                         & (df_cars['manufacturer'] == 'Volvo')]\n",
    "\n",
    "volvo_avg_price.T"
   ]
  },
  {
   "cell_type": "markdown",
   "metadata": {},
   "source": [
    "### Vraag 3:\n",
    "We kunnen de verdeling van de prijs van $2^e$ hands Volvo's voorstellen met een histogram:\n",
    "![alt text](image.png)\n",
    " - Waar zou je verwachten dat het gemiddelde +/- ligt voor deze verdeling?\n",
    " - Waar zou je verwachten dat de mediaan +/- ligt?\n",
    "\n",
    "Teken dit histogram met `.hist` en gebruik `.axvline` om de mediaan en het gemiddelde toe te voegen aan de plot. Komt dit overeen met je verwachting?\n",
    "\n",
    " - Kan je de emprisiche cummulatieve distributie functie tekenen voor de verdeling die overeenkomt met dit histogram (zie ook `scipy.stats.ecdf`)."
   ]
  },
  {
   "cell_type": "code",
   "execution_count": null,
   "metadata": {
    "vscode": {
     "languageId": "plaintext"
    }
   },
   "outputs": [],
   "source": []
  },
  {
   "cell_type": "markdown",
   "metadata": {},
   "source": [
    "### Vraag 4:\n",
    "Ik wil nu de verschillende fuel types vergelijken hoeveel deze kosten. Hiervoor maak ik volgende afbeelding met meerdere histogrammen hoe kunnen we deze beter maken? Welke alternatieven zijn er nog?\n",
    "![alt text](image-1.png)"
   ]
  },
  {
   "cell_type": "code",
   "execution_count": null,
   "metadata": {
    "vscode": {
     "languageId": "plaintext"
    }
   },
   "outputs": [],
   "source": []
  },
  {
   "cell_type": "markdown",
   "metadata": {},
   "source": [
    "### Vraag 5:\n",
    "Gegeven volgende boxplots van de prijs van elektrische & benzine wagens, zijn volgende uitspraken waar/onwaar/niet te besluiten & leg uit:\n",
    "\n",
    "![alt text](image-2.png)\n",
    "\n",
    " - De spreiding op de prijs van elektrische wagens is groter dan die van benzinewagens.\n",
    "\n",
    " - Een wagen die meer dan 50 000 euro kost heeft een grotere kans om elektrisch te zijn dan benzine.\n",
    "\n",
    " - Een elektrische wagen heeft een grotere kans om meer dan 50 000 euro te kosten dan een benzine wagen."
   ]
  },
  {
   "cell_type": "code",
   "execution_count": null,
   "metadata": {
    "vscode": {
     "languageId": "plaintext"
    }
   },
   "outputs": [],
   "source": []
  },
  {
   "cell_type": "markdown",
   "metadata": {},
   "source": [
    "### Vraag 6:\n",
    "Maak een visualizatie om het verband tussen mileage & price te tonen?"
   ]
  },
  {
   "cell_type": "code",
   "execution_count": null,
   "metadata": {
    "vscode": {
     "languageId": "plaintext"
    }
   },
   "outputs": [],
   "source": []
  },
  {
   "cell_type": "markdown",
   "metadata": {},
   "source": [
    "### Vraag 7:\n",
    "Volgens deze data is de gemiddelde prijs van $2^e$ hands elektrische Volvo’s 48 000 euro; als we veronderstellen dat onze dataset representatief is voor alle 2de hands volvo’s, hoe kan je de accuraatheid van deze schatting nagaan?"
   ]
  },
  {
   "cell_type": "code",
   "execution_count": null,
   "metadata": {
    "vscode": {
     "languageId": "plaintext"
    }
   },
   "outputs": [],
   "source": []
  }
 ],
 "metadata": {
  "kernelspec": {
   "display_name": "Python 3 (ipykernel)",
   "language": "python",
   "name": "python3"
  },
  "language_info": {
   "codemirror_mode": {
    "name": "ipython",
    "version": 3
   },
   "file_extension": ".py",
   "mimetype": "text/x-python",
   "name": "python",
   "nbconvert_exporter": "python",
   "pygments_lexer": "ipython3",
   "version": "3.10.9"
  }
 },
 "nbformat": 4,
 "nbformat_minor": 2
}
