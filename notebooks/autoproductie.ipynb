{
 "cells": [
  {
   "cell_type": "markdown",
   "metadata": {},
   "source": [
    "# Autproductie"
   ]
  },
  {
   "cell_type": "markdown",
   "metadata": {},
   "source": [
    "## Overzicht\n",
    "We kijken naar de dataset `cars.csv`, deze bevat informatie over de verkoop van 2e hands Volvo’s. We hebben hier een aantal vragen over, beantwoord deze vragen door een beetje code te schrijven en de antwoorden op te schrijven in een Jupyter Notebook."
   ]
  },
  {
   "cell_type": "code",
   "execution_count": 9,
   "metadata": {},
   "outputs": [],
   "source": [
    "# importeer libraries\n",
    "import pandas as pd\n",
    "import matplotlib.pyplot as plt\n",
    "import numpy as np\n",
    "import os"
   ]
  },
  {
   "cell_type": "code",
   "execution_count": 10,
   "metadata": {},
   "outputs": [],
   "source": [
    "# importeer dataset\n",
    "df_cars = pd.read_csv(os.path.join('..', 'data', 'input', 'cars.csv'))"
   ]
  },
  {
   "cell_type": "code",
   "execution_count": 3,
   "metadata": {},
   "outputs": [],
   "source": [
    "# print(df_cars.sample(3))"
   ]
  },
  {
   "cell_type": "markdown",
   "metadata": {},
   "source": [
    "### Vraag 1:\n",
    "Wat voor soort data zijn `year`, `fuel_type` en `seller_rating`? Motiveer je antwoord."
   ]
  },
  {
   "cell_type": "markdown",
   "metadata": {},
   "source": [
    "Antwoord:\n",
    "\n",
    "**year**: numeriek (meer specifiek: integer)\n",
    "\n",
    "**fuel_type**: categorisch (meer specifiek: niet-ordinaal, er is geen rangorde tussen deze categorieën)\n",
    "\n",
    "**seller_rating**: kan zowel numeriek (meer specifiek: float, incl. potentiële NaN's) als categorisch (meer specifiek: ordinaal) geinterpreteerd worden, dit hangt af van de businessvraag."
   ]
  },
  {
   "cell_type": "code",
   "execution_count": 4,
   "metadata": {
    "vscode": {
     "languageId": "plaintext"
    }
   },
   "outputs": [
    {
     "name": "stdout",
     "output_type": "stream",
     "text": [
      "year               int64\n",
      "fuel_type         object\n",
      "seller_rating    float64\n",
      "dtype: object\n",
      "        year fuel_type  seller_rating\n",
      "708948  2015    Hybrid            4.5\n",
      "85869   2020  Gasoline            NaN\n",
      "239191  2019  Gasoline            NaN\n"
     ]
    }
   ],
   "source": [
    "# lijst van types\n",
    "print(df_cars.loc[:,['year', 'fuel_type', 'seller_rating']].dtypes)\n",
    "\n",
    "# enkele sample data\n",
    "print(df_cars.loc[:,['year', 'fuel_type', 'seller_rating']].sample(3))"
   ]
  },
  {
   "cell_type": "markdown",
   "metadata": {},
   "source": [
    "### Vraag 2:\n",
    "Ik vraag me af hoe een gewoonlijke (mbt prijs) $2^e$ hands Volvo eruit ziet. Kan je deze zoeken en tonen?"
   ]
  },
  {
   "cell_type": "markdown",
   "metadata": {},
   "source": [
    "Antwoord: Zonder gedetailleerd naar de prijzen te kijken is de mediaan de veiligste centrummaat. Bij Vraag 3 kijken we ook naar andere centrummaten."
   ]
  },
  {
   "cell_type": "code",
   "execution_count": 16,
   "metadata": {},
   "outputs": [
    {
     "name": "stdout",
     "output_type": "stream",
     "text": [
      "Mediaanprijs van een 2de hands Volvo: 36673\n"
     ]
    }
   ],
   "source": [
    "# Bereken mediaan price\n",
    "median_price_volvo = (df_cars[df_cars['manufacturer'] == 'Volvo']\n",
    "                   ['price'].median()\n",
    "                  )\n",
    "print(f\"Mediaanprijs van een 2de hands Volvo: {round(median_price_volvo)}\")"
   ]
  },
  {
   "cell_type": "code",
   "execution_count": 17,
   "metadata": {
    "vscode": {
     "languageId": "plaintext"
    }
   },
   "outputs": [
    {
     "data": {
      "text/html": [
       "<div>\n",
       "<style scoped>\n",
       "    .dataframe tbody tr th:only-of-type {\n",
       "        vertical-align: middle;\n",
       "    }\n",
       "\n",
       "    .dataframe tbody tr th {\n",
       "        vertical-align: top;\n",
       "    }\n",
       "\n",
       "    .dataframe thead th {\n",
       "        text-align: right;\n",
       "    }\n",
       "</style>\n",
       "<table border=\"1\" class=\"dataframe\">\n",
       "  <thead>\n",
       "    <tr style=\"text-align: right;\">\n",
       "      <th></th>\n",
       "      <th>755471</th>\n",
       "    </tr>\n",
       "  </thead>\n",
       "  <tbody>\n",
       "    <tr>\n",
       "      <th>manufacturer</th>\n",
       "      <td>Volvo</td>\n",
       "    </tr>\n",
       "    <tr>\n",
       "      <th>model</th>\n",
       "      <td>XC40 R-Design</td>\n",
       "    </tr>\n",
       "    <tr>\n",
       "      <th>year</th>\n",
       "      <td>2020</td>\n",
       "    </tr>\n",
       "    <tr>\n",
       "      <th>mileage</th>\n",
       "      <td>35989.0</td>\n",
       "    </tr>\n",
       "    <tr>\n",
       "      <th>engine</th>\n",
       "      <td>I-4 cyl</td>\n",
       "    </tr>\n",
       "    <tr>\n",
       "      <th>transmission</th>\n",
       "      <td>Automatic with Geartronic</td>\n",
       "    </tr>\n",
       "    <tr>\n",
       "      <th>drivetrain</th>\n",
       "      <td>AWD</td>\n",
       "    </tr>\n",
       "    <tr>\n",
       "      <th>fuel_type</th>\n",
       "      <td>Gasoline</td>\n",
       "    </tr>\n",
       "    <tr>\n",
       "      <th>mpg</th>\n",
       "      <td>NaN</td>\n",
       "    </tr>\n",
       "    <tr>\n",
       "      <th>exterior_color</th>\n",
       "      <td>Onyx Black Metallic</td>\n",
       "    </tr>\n",
       "    <tr>\n",
       "      <th>interior_color</th>\n",
       "      <td>Charcoal</td>\n",
       "    </tr>\n",
       "    <tr>\n",
       "      <th>accidents_or_damage</th>\n",
       "      <td>0.0</td>\n",
       "    </tr>\n",
       "    <tr>\n",
       "      <th>one_owner</th>\n",
       "      <td>1.0</td>\n",
       "    </tr>\n",
       "    <tr>\n",
       "      <th>personal_use_only</th>\n",
       "      <td>1.0</td>\n",
       "    </tr>\n",
       "    <tr>\n",
       "      <th>seller_name</th>\n",
       "      <td>Borton Volvo Cars</td>\n",
       "    </tr>\n",
       "    <tr>\n",
       "      <th>seller_rating</th>\n",
       "      <td>4.0</td>\n",
       "    </tr>\n",
       "    <tr>\n",
       "      <th>driver_rating</th>\n",
       "      <td>4.9</td>\n",
       "    </tr>\n",
       "    <tr>\n",
       "      <th>driver_reviews_num</th>\n",
       "      <td>50.0</td>\n",
       "    </tr>\n",
       "    <tr>\n",
       "      <th>price_drop</th>\n",
       "      <td>NaN</td>\n",
       "    </tr>\n",
       "    <tr>\n",
       "      <th>price</th>\n",
       "      <td>36673.0</td>\n",
       "    </tr>\n",
       "  </tbody>\n",
       "</table>\n",
       "</div>"
      ],
      "text/plain": [
       "                                        755471\n",
       "manufacturer                             Volvo\n",
       "model                            XC40 R-Design\n",
       "year                                      2020\n",
       "mileage                                35989.0\n",
       "engine                                 I-4 cyl\n",
       "transmission         Automatic with Geartronic\n",
       "drivetrain                                 AWD\n",
       "fuel_type                             Gasoline\n",
       "mpg                                        NaN\n",
       "exterior_color             Onyx Black Metallic\n",
       "interior_color                        Charcoal\n",
       "accidents_or_damage                        0.0\n",
       "one_owner                                  1.0\n",
       "personal_use_only                          1.0\n",
       "seller_name                  Borton Volvo Cars\n",
       "seller_rating                              4.0\n",
       "driver_rating                              4.9\n",
       "driver_reviews_num                        50.0\n",
       "price_drop                                 NaN\n",
       "price                                  36673.0"
      ]
     },
     "execution_count": 17,
     "metadata": {},
     "output_type": "execute_result"
    }
   ],
   "source": [
    "# Toon alle Volvo's met mediaan prijs\n",
    "volvo_median_price = df_cars[(df_cars['price'] == median_price_volvo)\n",
    "                         & (df_cars['manufacturer'] == 'Volvo')]\n",
    "\n",
    "volvo_median_price.T"
   ]
  },
  {
   "cell_type": "markdown",
   "metadata": {},
   "source": [
    "### Vraag 3:\n",
    "We kunnen de verdeling van de prijs van $2^e$ hands Volvo's voorstellen met een histogram:\n",
    " - Waar zou je verwachten dat het gemiddelde +/- ligt voor deze verdeling?\n",
    " - Waar zou je verwachten dat de mediaan +/- ligt?\n",
    "\n",
    "Teken dit histogram met `.hist` en gebruik `.axvline` om de mediaan en het gemiddelde toe te voegen aan de plot. Komt dit overeen met je verwachting?\n",
    "\n",
    " - Kan je de emprisiche cumulatieve distributie functie tekenen voor de verdeling die overeenkomt met dit histogram (zie ook `scipy.stats.ecdf`)."
   ]
  },
  {
   "cell_type": "code",
   "execution_count": 18,
   "metadata": {},
   "outputs": [],
   "source": [
    "# Berekening gemiddelde prijs van een 2de hands Volvo\n",
    "avg_price_volvo = (df_cars[df_cars['manufacturer'] == 'Volvo']\n",
    "                   ['price'].mean()\n",
    "                  )"
   ]
  },
  {
   "cell_type": "code",
   "execution_count": null,
   "metadata": {},
   "outputs": [],
   "source": [
    "# conda install matplotlib=3.8"
   ]
  },
  {
   "cell_type": "code",
   "execution_count": 19,
   "metadata": {
    "vscode": {
     "languageId": "plaintext"
    }
   },
   "outputs": [
    {
     "data": {
      "image/png": "[encoded data removed]",
      "text/plain": [
       "<Figure size 1000x600 with 1 Axes>"
      ]
     },
     "metadata": {},
     "output_type": "display_data"
    }
   ],
   "source": [
    "# Histogram van prijzen\n",
    "fig, ax = plt.subplots(figsize=(10, 6))\n",
    "ax.hist(df_cars[df_cars['manufacturer'] == 'Volvo']['price'], bins=30, color='skyblue', edgecolor='black')\n",
    "ax.set_title(\"Verdeling van Prijzen van 2de hands Volvo's\")\n",
    "ax.set_xlabel('Prijs')\n",
    "ax.set_ylabel(\"Aantal Auto's\")\n",
    "\n",
    "# Voeg verticale lijnen toe voor mediaan (rood) en gemiddelde (paars)\n",
    "ax.axvline(median_price_volvo, color='red', linestyle='solid', linewidth=2, label='Mediaan')\n",
    "ax.axvline(avg_price_volvo, color='purple', linestyle='solid', linewidth=2, label='Gemiddelde')\n",
    "\n",
    "# Remove the top and right spines\n",
    "ax.spines['top'].set_visible(False)\n",
    "ax.spines['right'].set_visible(False)\n",
    "\n",
    "# Show grid\n",
    "ax.grid(True)\n",
    "plt.show()"
   ]
  },
  {
   "cell_type": "markdown",
   "metadata": {},
   "source": [
    "Uit de grafiek leiden we af dat de prijsverdeling min of meer symmetrisch is, weliswaar met een iets zwaardere linkerkant. De linkerkant zal maken dat het gemiddelde lager zal zijn dan de mediaan, en dit wordt ook door de berekeningen bevestigd."
   ]
  },
  {
   "cell_type": "markdown",
   "metadata": {},
   "source": [
    "### Vraag 4:\n",
    "Ik wil nu de verschillende fuel types vergelijken hoeveel deze kosten. Hiervoor maak ik volgende afbeelding met meerdere histogrammen hoe kunnen we deze beter maken? Welke alternatieven zijn er nog?"
   ]
  },
  {
   "cell_type": "markdown",
   "metadata": {},
   "source": [
    "Antwoord: Er zijn veel meer 2de hands Volvo's met Gasoline dan met andere brandstoffen. Een vergelijking obv histogrammen (met absolute aantallen) is moeilijk te maken. Laat ons eerst eens kijken van welke brandstoftypes we voldoende data hebben om een inschatting te maken van het aandeel wagens per prijscategorie."
   ]
  },
  {
   "cell_type": "code",
   "execution_count": 12,
   "metadata": {},
   "outputs": [],
   "source": [
    "# maak mapping van fuel_types naar 4 categorieën\n",
    "fuel_mapping = {\n",
    "    'Gasoline': 'Gasoline',\n",
    "    'Hybrid': 'Hybrid',\n",
    "    np.nan: 'Other',\n",
    "    'Premium': 'Gasoline', \n",
    "    'Electric': 'Electric',\n",
    "    'Gasoline/Mild Electric Hybrid': 'Hybrid',\n",
    "    'Diesel': 'Gasoline',\n",
    "    'E85 Flex Fuel': 'Gasoline',\n",
    "    'Flexible Fuel': 'Gasoline',\n",
    "    'Gasoline Fuel': 'Gasoline',\n",
    "    'Plug-In Hybrid': 'Hybrid',\n",
    "    'Premium (Required)': 'Gasoline',\n",
    "    'Regular Unleaded': 'Gasoline',\n",
    "    'Unspecified': 'Other',\n",
    "    'Unknown': 'Other',\n",
    "    'Compressed Natural Gas': 'Other',\n",
    "    'Other': 'Other',\n",
    "    'Natural Gas': 'Other',\n",
    "    'Gaseous': 'Other',\n",
    "    'Bi-Fuel': 'Gasoline',\n",
    "    'Flex Fuel Capability': 'Gasoline',\n",
    "    'Diesel Fuel': 'Gasoline',\n",
    "    'Premium Unleaded': 'Gasoline',\n",
    "    'Biodiesel': 'Gasoline',\n",
    "    'Bio Diesel': 'Gasoline',\n",
    "    'Hydrogen Fuel Cell': 'Other',\n",
    "    'Gas': 'Other',\n",
    "    'PHEV': 'Hybrid',\n",
    "    'Hybrid Fuel': 'Hybrid',\n",
    "    'Automatic': 'Other',\n",
    "    'E85 Fl': 'Gasoline',\n",
    "    'Electric Fuel System': 'Electric',\n",
    "    'G': 'Other',\n",
    "    'B': 'Other',\n",
    "    'Gas/Electric Hybrid': 'Hybrid',\n",
    "    'Flex Fuel': 'Gasoline', \n",
    "    'Plug-In Electric/Gas': 'Hybrid',\n",
    "    'Electric': 'Electric',\n",
    "}\n",
    "\n",
    "df_cars['fuel_type'] = df_cars['fuel_type'].map(fuel_mapping)"
   ]
  },
  {
   "cell_type": "code",
   "execution_count": 14,
   "metadata": {},
   "outputs": [
    {
     "data": {
      "text/plain": [
       "array(['Gasoline', 'Hybrid', 'Other', 'Electric'], dtype=object)"
      ]
     },
     "execution_count": 14,
     "metadata": {},
     "output_type": "execute_result"
    }
   ],
   "source": [
    "# df_cars = df_cars[df_cars.loc[:,'manufacturer'] == 'Volvo']\n",
    "# df_cars.fuel_type.unique()"
   ]
  },
  {
   "cell_type": "code",
   "execution_count": 15,
   "metadata": {
    "vscode": {
     "languageId": "plaintext"
    }
   },
   "outputs": [
    {
     "data": {
      "image/png": "[encoded data removed]",
      "text/plain": [
       "<Figure size 1000x600 with 1 Axes>"
      ]
     },
     "metadata": {},
     "output_type": "display_data"
    }
   ],
   "source": [
    "# Aantal voertuigen per fuel_type, gesorteerd van hoog naar laag\n",
    "fuel_type_counts = df_cars['fuel_type'].value_counts(ascending=True)\n",
    "\n",
    "# Maak een horizontale barchart voor fuel_type\n",
    "plt.figure(figsize=(10, 6))  # Stel de grootte van de figuur in\n",
    "fuel_type_counts.plot(kind='barh')  # Gebruik 'barh' voor horizontale barchart\n",
    "plt.title('Aantal voertuigen per Brandstoftype')  # Titel van de plot\n",
    "plt.xlabel('Aantal Voertuigen')  # Label voor de x-as\n",
    "plt.ylabel('Brandstoftype')  # Label voor de y-as\n",
    "\n",
    "# Verplaats de x-as naar de bovenkant van de grafiek\n",
    "ax = plt.gca()  # Get current axis\n",
    "ax.xaxis.tick_top()\n",
    "ax.xaxis.set_label_position('top')  # Verplaats het label van de x-as naar de bovenkant\n",
    "\n",
    "plt.show()"
   ]
  },
  {
   "cell_type": "markdown",
   "metadata": {},
   "source": [
    "Het lijkt erop dat niet elke wagen binnen 1 van de hoofdcategorieën werd geclassificeerd. Om een idee te krijgen van de grootte van het probleem, berekenen we het aandeel 'verkeerde' registraties:"
   ]
  },
  {
   "cell_type": "code",
   "execution_count": null,
   "metadata": {},
   "outputs": [],
   "source": [
    "# Bereken het totale aantal voertuigen\n",
    "total_vehicles = df_cars['fuel_type'].count()\n",
    "\n",
    "# Selecteer de top 5 hoofdcategorieën\n",
    "top_5_categories = fuel_type_counts.nlargest(5)\n",
    "\n",
    "# Bereken het aandeel van elk van de 5 hoofdcategorieën\n",
    "share_of_categories = (top_5_categories / total_vehicles) * 100\n",
    "\n",
    "print(\"Aandeel van elk van de 5 hoofdcategorieën:\")\n",
    "print(share_of_categories)\n",
    "\n",
    "# Bereken de som van de aandelen van de eerste 5 categorieën\n",
    "sum_of_top_5_categories = share_of_categories.sum()\n",
    "\n",
    "print(\"Som van de aandelen van de eerste 5 categorieën:\", round(sum_of_top_5_categories, 2), \"%\")"
   ]
  },
  {
   "cell_type": "markdown",
   "metadata": {},
   "source": [
    "We concluderen hieruit dat het aantal voertuigen met 'verkeerde' info over brandstoftype verwaarloosbaar klein is. Deze groep nemen we niet mee in de rest van onze analyse."
   ]
  },
  {
   "cell_type": "markdown",
   "metadata": {},
   "source": [
    "### Vraag 5:\n",
    "Gegeven volgende boxplots van de prijs van elektrische & benzine wagens, zijn volgende uitspraken waar/onwaar/niet te besluiten & leg uit:\n",
    "\n",
    "![alt text](image-2.png)\n",
    "\n",
    " - De spreiding op de prijs van elektrische wagens is groter dan die van benzinewagens.\n",
    "\n",
    " - Een wagen die meer dan 50 000 euro kost heeft een grotere kans om elektrisch te zijn dan benzine.\n",
    "\n",
    " - Een elektrische wagen heeft een grotere kans om meer dan 50 000 euro te kosten dan een benzine wagen."
   ]
  },
  {
   "cell_type": "code",
   "execution_count": null,
   "metadata": {
    "vscode": {
     "languageId": "plaintext"
    }
   },
   "outputs": [],
   "source": []
  },
  {
   "cell_type": "markdown",
   "metadata": {},
   "source": [
    "### Vraag 6:\n",
    "Maak een visualizatie om het verband tussen mileage & price te tonen?"
   ]
  },
  {
   "cell_type": "code",
   "execution_count": null,
   "metadata": {
    "vscode": {
     "languageId": "plaintext"
    }
   },
   "outputs": [],
   "source": []
  },
  {
   "cell_type": "markdown",
   "metadata": {},
   "source": [
    "### Vraag 7:\n",
    "Volgens deze data is de gemiddelde prijs van $2^e$ hands elektrische Volvo’s 48 000 euro; als we veronderstellen dat onze dataset representatief is voor alle 2de hands volvo’s, hoe kan je de accuraatheid van deze schatting nagaan?"
   ]
  },
  {
   "cell_type": "code",
   "execution_count": null,
   "metadata": {
    "vscode": {
     "languageId": "plaintext"
    }
   },
   "outputs": [],
   "source": []
  }
 ],
 "metadata": {
  "kernelspec": {
   "display_name": "Python 3 (ipykernel)",
   "language": "python",
   "name": "python3"
  },
  "language_info": {
   "codemirror_mode": {
    "name": "ipython",
    "version": 3
   },
   "file_extension": ".py",
   "mimetype": "text/x-python",
   "name": "python",
   "nbconvert_exporter": "python",
   "pygments_lexer": "ipython3",
   "version": "3.10.9"
  }
 },
 "nbformat": 4,
 "nbformat_minor": 4
}
