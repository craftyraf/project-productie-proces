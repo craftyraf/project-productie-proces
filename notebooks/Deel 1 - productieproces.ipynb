{
 "cells": [
  {
   "cell_type": "markdown",
   "id": "0fb3d9a7-63dd-4d22-a7ec-fa3aba0c7b26",
   "metadata": {},
   "source": [
    "# Project Productie Proces\n",
    "- Carlo Dieltjens - Raf Mesotten - Yannick Pottiez\n",
    "- April 2024"
   ]
  },
  {
   "cell_type": "markdown",
   "id": "fbcf5cbf-ec50-4842-bc94-104a787a0b61",
   "metadata": {},
   "source": [
    "## Stap 0: Importeren"
   ]
  },
  {
   "cell_type": "markdown",
   "id": "d185d00a-17f2-4f31-9766-92a94ea759f7",
   "metadata": {},
   "source": [
    "#### Libraries"
   ]
  },
  {
   "cell_type": "code",
   "execution_count": null,
   "id": "97529cc2",
   "metadata": {},
   "outputs": [],
   "source": [
    "import pandas as pd\n",
    "import numpy as np\n",
    "import os\n",
    "import json\n",
    "import sys\n",
    "import random\n",
    "import matplotlib.pyplot as plt \n",
    "import scipy.stats as stats\n",
    "from scipy.stats import cauchy"
   ]
  },
  {
   "cell_type": "code",
   "execution_count": null,
   "id": "d788ad60-bf6b-4ee9-ac66-34247ab5decb",
   "metadata": {},
   "outputs": [],
   "source": [
    "# Vermijd toekomstige deprecated-fouten bij onder meer histogrammen\n",
    "pd.set_option('future.no_silent_downcasting', True)"
   ]
  },
  {
   "cell_type": "markdown",
   "id": "0c07e52d-fab5-4642-93ae-9d2ffafdcd4d",
   "metadata": {},
   "source": [
    "#### Functies"
   ]
  },
  {
   "cell_type": "code",
   "execution_count": null,
   "id": "c082e471-5e42-44dc-b97a-6fc80b64dc37",
   "metadata": {},
   "outputs": [],
   "source": [
    "sys.path.append('../scripts')  # definieer path met scripts\n",
    "from segment_calculations import create_segments\n",
    "from simulate_production import simulate_production\n",
    "from read_files import read_json_files\n",
    "from make_a_chart import generate_point_distribution\n",
    "from make_a_chart import generate_uniform_distribution\n",
    "from make_a_chart import generate_normal_distribution\n",
    "from make_a_chart import generate_cauchy_distribution\n",
    "from make_a_chart import plot_segment_distributions\n",
    "from make_a_chart import line_chart_daily_production"
   ]
  },
  {
   "cell_type": "markdown",
   "id": "9655e1bf-ea50-4dd2-93b3-71f7263f5b75",
   "metadata": {},
   "source": [
    "## Stap 1: Gegevens downloaden en organiseren"
   ]
  },
  {
   "cell_type": "markdown",
   "id": "dfbf3a38-847a-433d-8087-b97444fa6635",
   "metadata": {},
   "source": [
    "#### Definiëren van input paden\n",
    "Alle input staat in de folder ```data\\input```."
   ]
  },
  {
   "cell_type": "code",
   "execution_count": null,
   "id": "02a81cb1-f0ff-4f95-bbb7-94c7fd5855ad",
   "metadata": {},
   "outputs": [],
   "source": [
    "input_path = os.path.join('..', 'data', 'input')\n",
    "\n",
    "# Definieer paden voor BRU en STO\n",
    "directory_path_BRU = os.path.join(input_path, 'data_productie', 'daily_production', 'BRU')\n",
    "directory_path_STO = os.path.join(input_path, 'data_productie', 'daily_production', 'STO')"
   ]
  },
  {
   "cell_type": "markdown",
   "id": "c5c55431-0298-449e-ba6a-c07616c78356",
   "metadata": {},
   "source": [
    "## Stap 2: Git Repository initialiseren\n",
    "https://github.com/craftyraf/project-productie-proces"
   ]
  },
  {
   "cell_type": "markdown",
   "id": "212e6f97-ebfe-4272-87be-4d01541ff556",
   "metadata": {},
   "source": [
    "## Stap 3: Creëer een virtuele omgeving met Anaconda\n",
    "Enkel de nodige pakketten werden geinstalleerd.\n",
    "In README.md staat uitgelegd hoe je je virtual environment kan opzetten."
   ]
  },
  {
   "cell_type": "markdown",
   "id": "353abf6e",
   "metadata": {},
   "source": [
    "## Stap 4: Lezen van gegevens in Python"
   ]
  },
  {
   "cell_type": "markdown",
   "id": "b0e0318e-874c-4143-8952-5f7400ca9e46",
   "metadata": {},
   "source": [
    "#### Inlezen van 1 .json bestand"
   ]
  },
  {
   "cell_type": "code",
   "execution_count": null,
   "id": "ee75ce77",
   "metadata": {},
   "outputs": [],
   "source": [
    "df = pd.read_json(os.path.join(input_path, \n",
    "                               'data_productie', \n",
    "                               'daily_production', \n",
    "                               'BRU', \n",
    "                               '20180101.json'), \n",
    "                  orient='index')\n",
    "df"
   ]
  },
  {
   "cell_type": "markdown",
   "id": "a9bf08f9-b4cd-41da-859e-c2f05c7c4796",
   "metadata": {},
   "source": [
    "#### Inlezen van alle .json bestanden + samenvoegen in 1 dataframe voor alle locaties (met extra kolom: 'location')"
   ]
  },
  {
   "cell_type": "code",
   "execution_count": null,
   "id": "59916205-8845-4cf6-9152-f1273de83eb0",
   "metadata": {},
   "outputs": [],
   "source": [
    "# Lees JSON-bestanden en maak DataFrame met 'Location' kolom\n",
    "BRU_df = read_json_files(directory_path_BRU, 'BRU')\n",
    "STO_df = read_json_files(directory_path_STO, 'STO')\n",
    "\n",
    "# Concateneer BRU en STO DataFrames\n",
    "combined_df = pd.concat([BRU_df, STO_df], ignore_index=True)\n",
    "\n",
    "# Toon gecombineerde DataFrame\n",
    "combined_df"
   ]
  },
  {
   "cell_type": "markdown",
   "id": "0fccdded-8d03-44e0-ab7d-d04d127804bf",
   "metadata": {},
   "source": [
    "#### Filter alle records waarbij onderhoud plaatsvond"
   ]
  },
  {
   "cell_type": "code",
   "execution_count": null,
   "id": "23c386ac-3a9a-4928-a96b-4b0e7c170d51",
   "metadata": {},
   "outputs": [],
   "source": [
    "# Unieke waarden met hun aantallen voor 'maintenance' in BRU_df\n",
    "unique_values_counts = combined_df['maintenance'].value_counts()\n",
    "print(unique_values_counts)\n",
    "\n",
    "# Behoud enkel de records met 'maintenance = No'\n",
    "combined_df_no_maintenance = combined_df[combined_df['maintenance'] == 'No']"
   ]
  },
  {
   "cell_type": "markdown",
   "id": "ebe858a6-17c0-4ec1-8f9a-f1256df0086c",
   "metadata": {},
   "source": [
    "#### Controle of er NaN-waarden in het dataframe zit"
   ]
  },
  {
   "cell_type": "markdown",
   "id": "e25c16bb-3226-4359-bae3-f98359038e87",
   "metadata": {},
   "source": [
    "Er zitten geen NaN-waarden in combined_df_no_maintenance:"
   ]
  },
  {
   "cell_type": "code",
   "execution_count": null,
   "id": "98e9e614-af58-4614-92f0-f6ae417a470a",
   "metadata": {},
   "outputs": [],
   "source": [
    "print(\"Aantal NaN-waarden per kolom in combined_df_no_maintenance:\")\n",
    "for column in combined_df_no_maintenance.columns:\n",
    "    nan_count = combined_df_no_maintenance[column].isna().sum()\n",
    "    print(f\"{column}: {nan_count}\")"
   ]
  },
  {
   "cell_type": "markdown",
   "id": "dc8e1a0a-6a0c-4a2f-a899-6cb1b4738b1e",
   "metadata": {},
   "source": [
    "#### Check datatypes en converteer naar het juiste format"
   ]
  },
  {
   "cell_type": "code",
   "execution_count": null,
   "id": "3fbf2a58-bc00-468f-b277-ee0e2901189f",
   "metadata": {},
   "outputs": [],
   "source": [
    "combined_df_no_maintenance.dtypes"
   ]
  },
  {
   "cell_type": "code",
   "execution_count": null,
   "id": "166b9f01-ba0b-4075-ba20-3104e8660eb7",
   "metadata": {},
   "outputs": [],
   "source": [
    "# Maak een nieuwe DataFrame met de schoongemaakte numerieke kolommen\n",
    "combined_df_cleaned = combined_df_no_maintenance.copy()\n",
    "\n",
    "# Converteer de kolommen naar numerieke datatypes\n",
    "combined_df_cleaned['prod_loss'] = pd.to_numeric(combined_df_cleaned['prod_loss'], errors='coerce')\n",
    "combined_df_cleaned['prod_loss_perc'] = pd.to_numeric(combined_df_cleaned['prod_loss_perc'], errors='coerce')\n",
    "combined_df_cleaned['production'] = pd.to_numeric(combined_df_cleaned['production'], errors='coerce')\n",
    "\n",
    "# Print de datatypes van de nieuwe DataFrame om te controleren\n",
    "print(combined_df_cleaned.dtypes)"
   ]
  },
  {
   "cell_type": "markdown",
   "id": "517786e7-7938-47d5-b378-8f44d00528e6",
   "metadata": {},
   "source": [
    "#### Creëer een histogram per locatie"
   ]
  },
  {
   "cell_type": "code",
   "execution_count": null,
   "id": "4635add3-3465-43f4-a03c-47eb852630f9",
   "metadata": {},
   "outputs": [],
   "source": [
    "# Verkrijg de unieke locaties\n",
    "unique_locations = combined_df_cleaned['location'].unique()\n",
    "\n",
    "# Bereken het aantal rijen/kolommen benodigd voor de subplots\n",
    "n_locs = len(unique_locations)\n",
    "n_cols = 3  # Kies bijvoorbeeld 3 kolommen of een ander gewenst aantal\n",
    "n_rows = n_locs // n_cols + (n_locs % n_cols > 0)\n",
    "\n",
    "# Creëer een figuur en assen voor de subplots\n",
    "fig, axs = plt.subplots(n_rows, n_cols, figsize=(5 * n_cols, 4 * n_rows), squeeze=False)\n",
    "\n",
    "for i, loc in enumerate(unique_locations):\n",
    "    # Bereken de huidige rij en kolom\n",
    "    row = i // n_cols\n",
    "    col = i % n_cols\n",
    "    \n",
    "    # Filter de data voor de huidige locatie\n",
    "    loc_data = combined_df_cleaned[combined_df_cleaned['location'] == loc]['production']\n",
    "    \n",
    "    # Plot histogram van productie voor de huidige locatie\n",
    "    axs[row, col].hist(loc_data, bins=50, alpha=0.7)\n",
    "    axs[row, col].set_title(f'Histogram van productie {loc}')\n",
    "    axs[row, col].set_xlabel('Productie')\n",
    "    axs[row, col].set_ylabel('Frequentie')\n",
    "\n",
    "# Verberg overbodige subplots als het aantal locaties niet perfect in de grid past\n",
    "for i in range(n_locs, n_rows * n_cols):\n",
    "    fig.delaxes(axs.flatten()[i])\n",
    "\n",
    "# Toon de plot\n",
    "plt.tight_layout()\n",
    "plt.show()"
   ]
  },
  {
   "cell_type": "markdown",
   "id": "97f62677",
   "metadata": {},
   "source": [
    "### Stap 5: Bepaal een geschikte verdeling voor het dagelijkse productieproces"
   ]
  },
  {
   "cell_type": "markdown",
   "id": "28924c49-0051-4aa2-9b60-bea90ad7496b",
   "metadata": {},
   "source": [
    "In bovenstaande grafieken is duidelijk zichtbaar dat een normaalverdeling niet zal volstaan om de data te fitten. Reden is de grote piek ter hoogte van 0, maar ook de lange linkerstaart samen met de korte rechterstaart. Om die reden besluiten we onze histogrammen (visueel) op te delen in 3 delen, en voor elk deel een geschikte fit te vinden."
   ]
  },
  {
   "cell_type": "markdown",
   "id": "7fc59200-a1de-46bd-ab75-de985d44dff4",
   "metadata": {},
   "source": [
    "#### BRU\n",
    "In het geval van BRU kozen we voor een **puntverdeling** op 0, een **uniforme verdeling** voor het tussengedeelte, en een **normaalverdeling** voor de 'normale' productie."
   ]
  },
  {
   "cell_type": "code",
   "execution_count": null,
   "id": "0fe5c259-1fb2-4357-8185-5b4b0047683b",
   "metadata": {},
   "outputs": [],
   "source": [
    "# Inputparameters BRU\n",
    "location = 'BRU'\n",
    "distribution_1 = generate_point_distribution\n",
    "threshold_1 = 10**(-8)\n",
    "distribution_2 = generate_uniform_distribution\n",
    "threshold_2 = 750\n",
    "distribution_3 = generate_normal_distribution\n",
    "\n",
    "# Gebruik de functie 'create_segments' om de segmenten te maken (grenzen werden visueel bepaald)\n",
    "# en het aandeel per segment te berekenen.\n",
    "share_1, share_2, share_3, \\\n",
    "segment_1, segment_2, segment_3 = create_segments(location, threshold_1, threshold_2, combined_df_cleaned)\n",
    "\n",
    "# Print shares (aandelen)\n",
    "print(f\"{location}: % dagen met [productie < {threshold_1}]:\", share_1, '%')\n",
    "print(f\"{location}: % dagen met [{threshold_1} <= productie < {threshold_2}]:\", share_2, '%')\n",
    "print(f\"{location}: % dagen met [productie >= {threshold_2}]:\", share_3, '%')\n",
    "\n",
    "# Genereer grafieken van de 3 segmenten\n",
    "plot_segment_distributions(segment_1, distribution_1,\n",
    "                           segment_2, distribution_2, \n",
    "                           segment_3, distribution_3,                           \n",
    "                           location, \n",
    "                           threshold_1, \n",
    "                           threshold_2, \n",
    "                           combined_df_cleaned\n",
    "                          )"
   ]
  },
  {
   "cell_type": "markdown",
   "id": "da6a48f1-7184-4e34-b128-7f0a36435e60",
   "metadata": {},
   "source": [
    "#### STO\n",
    "In het geval van STO kozen we voor een **puntverdeling** op 0, een **uniforme verdeling** voor het tussengedeelte, en een **cauchyverdeling** voor de 'normale' productie (heeft een scherpere piek dan de normaalverdeling)."
   ]
  },
  {
   "cell_type": "code",
   "execution_count": null,
   "id": "a63872d4-7b43-4c28-b58b-084bb4595238",
   "metadata": {},
   "outputs": [],
   "source": [
    "# Inputparameters STO\n",
    "location = 'STO'\n",
    "distribution_1 = generate_point_distribution\n",
    "threshold_1 = 10**(-8)\n",
    "distribution_2 = generate_uniform_distribution\n",
    "threshold_2 = 150\n",
    "distribution_3 = generate_cauchy_distribution\n",
    "\n",
    "# Gebruik de functie 'create_segments' om de segmenten te maken (grenzen werden visueel bepaald)\n",
    "# en het aandeel per segment te berekenen.\n",
    "share_1, share_2, share_3, \\\n",
    "segment_1, segment_2, segment_3 = create_segments(location, threshold_1, threshold_2, combined_df_cleaned)\n",
    "\n",
    "# Print shares (aandelen)\n",
    "print(f\"{location}: % dagen met [productie < {threshold_1}]:\", share_1, '%')\n",
    "print(f\"{location}: % dagen met [{threshold_1} <= productie < {threshold_2}]:\", share_2, '%')\n",
    "print(f\"{location}: % dagen met [productie >= {threshold_2}]:\", share_3, '%')\n",
    "\n",
    "# Genereer grafieken van de 3 segmenten\n",
    "plot_segment_distributions(segment_1, distribution_1,\n",
    "                           segment_2, distribution_2, \n",
    "                           segment_3, distribution_3,                           \n",
    "                           location, \n",
    "                           threshold_1, \n",
    "                           threshold_2, \n",
    "                           combined_df_cleaned\n",
    "                          )"
   ]
  },
  {
   "cell_type": "markdown",
   "id": "92d5f123",
   "metadata": {},
   "source": [
    "### Stap 6: Simulatieprogramma ontwikkelen"
   ]
  },
  {
   "cell_type": "code",
   "execution_count": null,
   "id": "221f2fd2-ef41-483d-bacc-326f34f649e1",
   "metadata": {},
   "outputs": [],
   "source": [
    "# Inputparameters BRU\n",
    "location = 'BRU'\n",
    "distribution_1 = generate_point_distribution\n",
    "threshold_1 = 10**(-8)\n",
    "distribution_2 = generate_uniform_distribution\n",
    "threshold_2 = 750\n",
    "distribution_3 = generate_normal_distribution\n",
    "\n",
    "# Gebruik de functie 'create_segments' om de segmenten te maken (grenzen werden visueel bepaald)\n",
    "# en het aandeel per segment te berekenen.\n",
    "share_1, share_2, share_3, \\\n",
    "segment_1, segment_2, segment_3 = create_segments(location, threshold_1, threshold_2, combined_df_cleaned)\n",
    "\n",
    "# Parameters van de verdelingen uitpakken\n",
    "xmin, xmax = generate_uniform_distribution(segment_2, location, threshold_1, threshold_2\n",
    "mean_norm, std_norm = generate_normal_distribution\n",
    "\n",
    "def generate_random_value(share_1, share_2, distribution_2, xmin, xmax):\n",
    "    \"\"\"\n",
    "    Generate a random value based on given shares.\n",
    "\n",
    "    Parameters:\n",
    "        share_1 (float): The first share.\n",
    "        share_2 (float): The second share.\n",
    "        distribution_2 (tuple): The range of the uniform distribution for the second case.\n",
    "        xmin (float): The minimum value.\n",
    "        xmax (float): The maximum value.\n",
    "\n",
    "    Returns:\n",
    "        int: The generated value.\n",
    "    \"\"\"\n",
    "    random_number = random.random()  # Generate a random number between 0 and 1\n",
    "    \n",
    "    # Check conditions and return corresponding value\n",
    "    if random_number < share_1:\n",
    "        return 0\n",
    "    elif random_number < share_2:\n",
    "        # Generate a random number from the uniform distribution\n",
    "        return random.uniform(xmin, xmax)\n",
    "    else:\n",
    "        return 20\n",
    "\n",
    "generate_random_value(share_1, share_2, (xmin, xmax), xmin, xmax)\n",
    "print(value)"
   ]
  },
  {
   "cell_type": "code",
   "execution_count": null,
   "id": "b1e9c5eb-09ef-4b2c-bac0-334e1133d8d9",
   "metadata": {},
   "outputs": [],
   "source": [
    "# Vraag de gebruiker om de duur van de simulatie (n dagen)\n",
    "n = int(input(\"Voer het aantal dagen in voor de simulatie: \"))\n",
    "\n",
    "# Verkrijg de unieke locaties\n",
    "unique_locations = combined_df_cleaned['location'].unique()\n",
    "\n",
    "for i, loc in enumerate(unique_locations):  \n",
    "    # Filter de data voor de huidige locatie\n",
    "    location = unique_locations[i]\n",
    "    loc_data = combined_df_cleaned[combined_df_cleaned['location'] == location]['production']\n",
    "    \n",
    "    # Parameters voor de normaalverdeling (gemiddelde en standaarddeviatie)\n",
    "    mean, std = stats.norm.fit(loc_data) #data_combined_df_cleaned)\n",
    "\n",
    "    # Simuleer de productie\n",
    "    simulated_data = simulate_production(n, mean, std)\n",
    "\n",
    "    # Toon de gesimuleerde productiewaarden\n",
    "    print(\"Gesimuleerde productiewaarden:\")\n",
    "    for i, value in enumerate(simulated_data, 1):\n",
    "        print(f\"Dag {i}: {value}\")\n",
    "\n",
    "    # Maak een chart\n",
    "    chart_title = \"Gesimuleerde productiewaarden\"\n",
    "    line_chart_daily_production(simulated_data, location, chart_title)\n"
   ]
  },
  {
   "cell_type": "markdown",
   "id": "79112b61-5d21-4e6b-a079-a1325c18adfd",
   "metadata": {},
   "source": [
    "# 7 Gebruik je simulatie"
   ]
  },
  {
   "cell_type": "code",
   "execution_count": null,
   "id": "e6ab00eb-12ca-4417-bedd-e277855d7895",
   "metadata": {},
   "outputs": [],
   "source": []
  },
  {
   "cell_type": "code",
   "execution_count": null,
   "id": "5fb44125-5f21-4e91-afbe-1a013c9b99bb",
   "metadata": {},
   "outputs": [],
   "source": []
  }
 ],
 "metadata": {
  "kernelspec": {
   "display_name": "Python 3 (ipykernel)",
   "language": "python",
   "name": "python3"
  },
  "language_info": {
   "codemirror_mode": {
    "name": "ipython",
    "version": 3
   },
   "file_extension": ".py",
   "mimetype": "text/x-python",
   "name": "python",
   "nbconvert_exporter": "python",
   "pygments_lexer": "ipython3",
   "version": "3.11.8"
  }
 },
 "nbformat": 4,
 "nbformat_minor": 5
}
