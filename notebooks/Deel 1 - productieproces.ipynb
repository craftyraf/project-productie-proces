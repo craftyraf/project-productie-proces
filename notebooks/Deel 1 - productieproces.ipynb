{
 "cells": [
  {
   "cell_type": "markdown",
   "id": "0fb3d9a7-63dd-4d22-a7ec-fa3aba0c7b26",
   "metadata": {},
   "source": [
    "# Project Productie Proces\n",
    "- Carlo Dieltjens - Raf Mesotten - Yannick Pottiez\n",
    "- April 2024"
   ]
  },
  {
   "cell_type": "markdown",
   "id": "fbcf5cbf-ec50-4842-bc94-104a787a0b61",
   "metadata": {},
   "source": [
    "## Stap 0: Importeren"
   ]
  },
  {
   "cell_type": "markdown",
   "id": "d185d00a-17f2-4f31-9766-92a94ea759f7",
   "metadata": {},
   "source": [
    "#### Libraries"
   ]
  },
  {
   "cell_type": "code",
   "execution_count": 1,
   "id": "97529cc2",
   "metadata": {},
   "outputs": [],
   "source": [
    "import pandas as pd\n",
    "import numpy as np\n",
    "import os\n",
    "import json\n",
    "import sys\n",
    "import random\n",
    "import matplotlib.pyplot as plt \n",
    "import scipy.stats as stats\n",
    "from scipy.stats import norm\n",
    "from scipy.stats import cauchy"
   ]
  },
  {
   "cell_type": "code",
   "execution_count": 2,
   "id": "d788ad60-bf6b-4ee9-ac66-34247ab5decb",
   "metadata": {},
   "outputs": [],
   "source": [
    "# Vermijd toekomstige deprecated-fouten bij onder meer histogrammen\n",
    "pd.set_option('future.no_silent_downcasting', True)"
   ]
  },
  {
   "cell_type": "markdown",
   "id": "0c07e52d-fab5-4642-93ae-9d2ffafdcd4d",
   "metadata": {},
   "source": [
    "#### Functies"
   ]
  },
  {
   "cell_type": "code",
   "execution_count": 3,
   "id": "c082e471-5e42-44dc-b97a-6fc80b64dc37",
   "metadata": {},
   "outputs": [],
   "source": [
    "sys.path.append('../scripts')  # definieer path met scripts\n",
    "from segment_calculations import create_segments\n",
    "from segment_calculations import print_segment_share\n",
    "from segment_calculations import calculate_and_save_segments_values\n",
    "from simulate_production import simulate_production\n",
    "from read_files import read_json_files\n",
    "from simulate import simulate\n",
    "from make_a_chart import calculate_maximum\n",
    "from make_a_chart import generate_plot_point_distribution\n",
    "from make_a_chart import generate_plot_uniform_distribution\n",
    "from make_a_chart import generate_plot_normal_distribution\n",
    "from make_a_chart import generate_plot_cauchy_distribution\n",
    "from make_a_chart import plot_histogram\n",
    "from make_a_chart import plot_cdf\n",
    "from make_a_chart import plot_segment_distributions\n",
    "from make_a_chart import line_chart_daily_production"
   ]
  },
  {
   "cell_type": "markdown",
   "id": "9655e1bf-ea50-4dd2-93b3-71f7263f5b75",
   "metadata": {},
   "source": [
    "## Stap 1: Gegevens downloaden en organiseren"
   ]
  },
  {
   "cell_type": "markdown",
   "id": "dfbf3a38-847a-433d-8087-b97444fa6635",
   "metadata": {},
   "source": [
    "#### Definiëren van input paden\n",
    "Alle input staat in de folder ```data\\input```."
   ]
  },
  {
   "cell_type": "code",
   "execution_count": 4,
   "id": "02a81cb1-f0ff-4f95-bbb7-94c7fd5855ad",
   "metadata": {},
   "outputs": [],
   "source": [
    "input_path = os.path.join('..', 'data', 'input')\n",
    "output_path = os.path.join('..', 'data', 'output')\n",
    "\n",
    "# Definieer paden voor BRU en STO\n",
    "directory_path_BRU = os.path.join(input_path, 'data_productie', 'daily_production', 'BRU')\n",
    "directory_path_STO = os.path.join(input_path, 'data_productie', 'daily_production', 'STO')"
   ]
  },
  {
   "cell_type": "markdown",
   "id": "c5c55431-0298-449e-ba6a-c07616c78356",
   "metadata": {},
   "source": [
    "## Stap 2: Git Repository initialiseren\n",
    "https://github.com/craftyraf/project-productie-proces"
   ]
  },
  {
   "cell_type": "markdown",
   "id": "212e6f97-ebfe-4272-87be-4d01541ff556",
   "metadata": {},
   "source": [
    "## Stap 3: Creëer een virtuele omgeving met Anaconda\n",
    "Enkel de nodige pakketten werden geinstalleerd.\n",
    "In README.md staat uitgelegd hoe je je virtual environment kan opzetten."
   ]
  },
  {
   "cell_type": "markdown",
   "id": "353abf6e",
   "metadata": {},
   "source": [
    "## Stap 4: Lezen van gegevens in Python\n",
    "Schrijf code om alle gegevens uit stap 1 in te lezen in Python."
   ]
  },
  {
   "cell_type": "markdown",
   "id": "b0e0318e-874c-4143-8952-5f7400ca9e46",
   "metadata": {},
   "source": [
    "#### Inlezen van 1 .json bestand"
   ]
  },
  {
   "cell_type": "code",
   "execution_count": 5,
   "id": "ee75ce77",
   "metadata": {},
   "outputs": [
    {
     "data": {
      "text/html": [
       "<div>\n",
       "<style scoped>\n",
       "    .dataframe tbody tr th:only-of-type {\n",
       "        vertical-align: middle;\n",
       "    }\n",
       "\n",
       "    .dataframe tbody tr th {\n",
       "        vertical-align: top;\n",
       "    }\n",
       "\n",
       "    .dataframe thead th {\n",
       "        text-align: right;\n",
       "    }\n",
       "</style>\n",
       "<table border=\"1\" class=\"dataframe\">\n",
       "  <thead>\n",
       "    <tr style=\"text-align: right;\">\n",
       "      <th></th>\n",
       "      <th>0</th>\n",
       "    </tr>\n",
       "  </thead>\n",
       "  <tbody>\n",
       "    <tr>\n",
       "      <th>DoW</th>\n",
       "      <td>Monday</td>\n",
       "    </tr>\n",
       "    <tr>\n",
       "      <th>hour</th>\n",
       "      <td>1</td>\n",
       "    </tr>\n",
       "    <tr>\n",
       "      <th>minute</th>\n",
       "      <td>0</td>\n",
       "    </tr>\n",
       "    <tr>\n",
       "      <th>date</th>\n",
       "      <td>01-01-2018 00:00:00.0000</td>\n",
       "    </tr>\n",
       "    <tr>\n",
       "      <th>maintenance</th>\n",
       "      <td>No</td>\n",
       "    </tr>\n",
       "    <tr>\n",
       "      <th>prod_loss</th>\n",
       "      <td>61</td>\n",
       "    </tr>\n",
       "    <tr>\n",
       "      <th>prod_loss_perc</th>\n",
       "      <td>5</td>\n",
       "    </tr>\n",
       "    <tr>\n",
       "      <th>production</th>\n",
       "      <td>1183</td>\n",
       "    </tr>\n",
       "  </tbody>\n",
       "</table>\n",
       "</div>"
      ],
      "text/plain": [
       "                                       0\n",
       "DoW                               Monday\n",
       "hour                                   1\n",
       "minute                                 0\n",
       "date            01-01-2018 00:00:00.0000\n",
       "maintenance                           No\n",
       "prod_loss                             61\n",
       "prod_loss_perc                         5\n",
       "production                          1183"
      ]
     },
     "execution_count": 5,
     "metadata": {},
     "output_type": "execute_result"
    }
   ],
   "source": [
    "df = pd.read_json(os.path.join(input_path, \n",
    "                               'data_productie', \n",
    "                               'daily_production', \n",
    "                               'BRU', \n",
    "                               '20180101.json'), \n",
    "                  orient='index')\n",
    "df"
   ]
  },
  {
   "cell_type": "markdown",
   "id": "a9bf08f9-b4cd-41da-859e-c2f05c7c4796",
   "metadata": {},
   "source": [
    "#### Inlezen van alle .json bestanden + samenvoegen in 1 dataframe voor alle locaties (met extra kolom: 'location')"
   ]
  },
  {
   "cell_type": "code",
   "execution_count": 6,
   "id": "59916205-8845-4cf6-9152-f1273de83eb0",
   "metadata": {},
   "outputs": [
    {
     "data": {
      "text/html": [
       "<div>\n",
       "<style scoped>\n",
       "    .dataframe tbody tr th:only-of-type {\n",
       "        vertical-align: middle;\n",
       "    }\n",
       "\n",
       "    .dataframe tbody tr th {\n",
       "        vertical-align: top;\n",
       "    }\n",
       "\n",
       "    .dataframe thead th {\n",
       "        text-align: right;\n",
       "    }\n",
       "</style>\n",
       "<table border=\"1\" class=\"dataframe\">\n",
       "  <thead>\n",
       "    <tr style=\"text-align: right;\">\n",
       "      <th></th>\n",
       "      <th>DoW</th>\n",
       "      <th>hour</th>\n",
       "      <th>minute</th>\n",
       "      <th>date</th>\n",
       "      <th>maintenance</th>\n",
       "      <th>prod_loss</th>\n",
       "      <th>prod_loss_perc</th>\n",
       "      <th>production</th>\n",
       "      <th>location</th>\n",
       "    </tr>\n",
       "  </thead>\n",
       "  <tbody>\n",
       "    <tr>\n",
       "      <th>0</th>\n",
       "      <td>Monday</td>\n",
       "      <td>1</td>\n",
       "      <td>0</td>\n",
       "      <td>01-01-2018 00:00:00.0000</td>\n",
       "      <td>No</td>\n",
       "      <td>61</td>\n",
       "      <td>5</td>\n",
       "      <td>1183</td>\n",
       "      <td>BRU</td>\n",
       "    </tr>\n",
       "    <tr>\n",
       "      <th>1</th>\n",
       "      <td>Tuesday</td>\n",
       "      <td>1</td>\n",
       "      <td>0</td>\n",
       "      <td>01-02-2018 00:00:00.0000</td>\n",
       "      <td>No</td>\n",
       "      <td>106</td>\n",
       "      <td>9</td>\n",
       "      <td>1138</td>\n",
       "      <td>BRU</td>\n",
       "    </tr>\n",
       "    <tr>\n",
       "      <th>2</th>\n",
       "      <td>Wednesday</td>\n",
       "      <td>1</td>\n",
       "      <td>0</td>\n",
       "      <td>01-03-2018 00:00:00.0000</td>\n",
       "      <td>No</td>\n",
       "      <td>129</td>\n",
       "      <td>10</td>\n",
       "      <td>1115</td>\n",
       "      <td>BRU</td>\n",
       "    </tr>\n",
       "    <tr>\n",
       "      <th>3</th>\n",
       "      <td>Thursday</td>\n",
       "      <td>1</td>\n",
       "      <td>0</td>\n",
       "      <td>01-04-2018 00:00:00.0000</td>\n",
       "      <td>No</td>\n",
       "      <td>278</td>\n",
       "      <td>22</td>\n",
       "      <td>966</td>\n",
       "      <td>BRU</td>\n",
       "    </tr>\n",
       "    <tr>\n",
       "      <th>4</th>\n",
       "      <td>Friday</td>\n",
       "      <td>1</td>\n",
       "      <td>0</td>\n",
       "      <td>01-05-2018 00:00:00.0000</td>\n",
       "      <td>No</td>\n",
       "      <td>218</td>\n",
       "      <td>17</td>\n",
       "      <td>1026</td>\n",
       "      <td>BRU</td>\n",
       "    </tr>\n",
       "    <tr>\n",
       "      <th>...</th>\n",
       "      <td>...</td>\n",
       "      <td>...</td>\n",
       "      <td>...</td>\n",
       "      <td>...</td>\n",
       "      <td>...</td>\n",
       "      <td>...</td>\n",
       "      <td>...</td>\n",
       "      <td>...</td>\n",
       "      <td>...</td>\n",
       "    </tr>\n",
       "    <tr>\n",
       "      <th>3655</th>\n",
       "      <td>Saturday</td>\n",
       "      <td>1</td>\n",
       "      <td>0</td>\n",
       "      <td>12-31-2022 00:00:00.0000</td>\n",
       "      <td>No</td>\n",
       "      <td>51</td>\n",
       "      <td>19</td>\n",
       "      <td>223</td>\n",
       "      <td>STO</td>\n",
       "    </tr>\n",
       "    <tr>\n",
       "      <th>3656</th>\n",
       "      <td>Sunday</td>\n",
       "      <td>1</td>\n",
       "      <td>0</td>\n",
       "      <td>01-01-2023 00:00:00.0000</td>\n",
       "      <td>No</td>\n",
       "      <td>53</td>\n",
       "      <td>20</td>\n",
       "      <td>221</td>\n",
       "      <td>STO</td>\n",
       "    </tr>\n",
       "    <tr>\n",
       "      <th>3657</th>\n",
       "      <td>Monday</td>\n",
       "      <td>1</td>\n",
       "      <td>0</td>\n",
       "      <td>01-02-2023 00:00:00.0000</td>\n",
       "      <td>No</td>\n",
       "      <td>61</td>\n",
       "      <td>22</td>\n",
       "      <td>213</td>\n",
       "      <td>STO</td>\n",
       "    </tr>\n",
       "    <tr>\n",
       "      <th>3658</th>\n",
       "      <td>Tuesday</td>\n",
       "      <td>1</td>\n",
       "      <td>0</td>\n",
       "      <td>01-03-2023 00:00:00.0000</td>\n",
       "      <td>No</td>\n",
       "      <td>70</td>\n",
       "      <td>25</td>\n",
       "      <td>204</td>\n",
       "      <td>STO</td>\n",
       "    </tr>\n",
       "    <tr>\n",
       "      <th>3659</th>\n",
       "      <td>Wednesday</td>\n",
       "      <td>1</td>\n",
       "      <td>0</td>\n",
       "      <td>01-04-2023 00:00:00.0000</td>\n",
       "      <td>No</td>\n",
       "      <td>69</td>\n",
       "      <td>25</td>\n",
       "      <td>205</td>\n",
       "      <td>STO</td>\n",
       "    </tr>\n",
       "  </tbody>\n",
       "</table>\n",
       "<p>3660 rows × 9 columns</p>\n",
       "</div>"
      ],
      "text/plain": [
       "            DoW  hour  minute                      date maintenance prod_loss  \\\n",
       "0        Monday     1       0  01-01-2018 00:00:00.0000          No        61   \n",
       "1       Tuesday     1       0  01-02-2018 00:00:00.0000          No       106   \n",
       "2     Wednesday     1       0  01-03-2018 00:00:00.0000          No       129   \n",
       "3      Thursday     1       0  01-04-2018 00:00:00.0000          No       278   \n",
       "4        Friday     1       0  01-05-2018 00:00:00.0000          No       218   \n",
       "...         ...   ...     ...                       ...         ...       ...   \n",
       "3655   Saturday     1       0  12-31-2022 00:00:00.0000          No        51   \n",
       "3656     Sunday     1       0  01-01-2023 00:00:00.0000          No        53   \n",
       "3657     Monday     1       0  01-02-2023 00:00:00.0000          No        61   \n",
       "3658    Tuesday     1       0  01-03-2023 00:00:00.0000          No        70   \n",
       "3659  Wednesday     1       0  01-04-2023 00:00:00.0000          No        69   \n",
       "\n",
       "     prod_loss_perc production location  \n",
       "0                 5       1183      BRU  \n",
       "1                 9       1138      BRU  \n",
       "2                10       1115      BRU  \n",
       "3                22        966      BRU  \n",
       "4                17       1026      BRU  \n",
       "...             ...        ...      ...  \n",
       "3655             19        223      STO  \n",
       "3656             20        221      STO  \n",
       "3657             22        213      STO  \n",
       "3658             25        204      STO  \n",
       "3659             25        205      STO  \n",
       "\n",
       "[3660 rows x 9 columns]"
      ]
     },
     "execution_count": 6,
     "metadata": {},
     "output_type": "execute_result"
    }
   ],
   "source": [
    "# Lees JSON-bestanden en maak DataFrame met 'Location' kolom\n",
    "BRU_df = read_json_files(directory_path_BRU, 'BRU')\n",
    "STO_df = read_json_files(directory_path_STO, 'STO')\n",
    "\n",
    "# Concateneer BRU en STO DataFrames\n",
    "combined_df = pd.concat([BRU_df, STO_df], ignore_index=True)\n",
    "\n",
    "# Toon gecombineerde DataFrame\n",
    "combined_df"
   ]
  },
  {
   "cell_type": "markdown",
   "id": "0fccdded-8d03-44e0-ab7d-d04d127804bf",
   "metadata": {},
   "source": [
    "#### Filter alle records waarbij onderhoud plaatsvond"
   ]
  },
  {
   "cell_type": "code",
   "execution_count": 7,
   "id": "23c386ac-3a9a-4928-a96b-4b0e7c170d51",
   "metadata": {},
   "outputs": [
    {
     "name": "stdout",
     "output_type": "stream",
     "text": [
      "maintenance\n",
      "No     3452\n",
      "Yes     208\n",
      "Name: count, dtype: int64\n"
     ]
    }
   ],
   "source": [
    "# Unieke waarden met hun aantallen voor 'maintenance' in BRU_df\n",
    "unique_values_counts = combined_df['maintenance'].value_counts()\n",
    "print(unique_values_counts)\n",
    "\n",
    "# Behoud enkel de records met 'maintenance = No'\n",
    "combined_df_no_maintenance = combined_df[combined_df['maintenance'] == 'No']"
   ]
  },
  {
   "cell_type": "markdown",
   "id": "ebe858a6-17c0-4ec1-8f9a-f1256df0086c",
   "metadata": {},
   "source": [
    "#### Controle of er NaN-waarden in het dataframe zit"
   ]
  },
  {
   "cell_type": "markdown",
   "id": "e25c16bb-3226-4359-bae3-f98359038e87",
   "metadata": {},
   "source": [
    "Er zitten geen NaN-waarden in combined_df_no_maintenance:"
   ]
  },
  {
   "cell_type": "code",
   "execution_count": 8,
   "id": "98e9e614-af58-4614-92f0-f6ae417a470a",
   "metadata": {},
   "outputs": [
    {
     "name": "stdout",
     "output_type": "stream",
     "text": [
      "Aantal NaN-waarden per kolom in combined_df_no_maintenance:\n",
      "DoW: 0\n",
      "hour: 0\n",
      "minute: 0\n",
      "date: 0\n",
      "maintenance: 0\n",
      "prod_loss: 0\n",
      "prod_loss_perc: 0\n",
      "production: 0\n",
      "location: 0\n"
     ]
    }
   ],
   "source": [
    "print(\"Aantal NaN-waarden per kolom in combined_df_no_maintenance:\")\n",
    "for column in combined_df_no_maintenance.columns:\n",
    "    nan_count = combined_df_no_maintenance[column].isna().sum()\n",
    "    print(f\"{column}: {nan_count}\")"
   ]
  },
  {
   "cell_type": "markdown",
   "id": "dc8e1a0a-6a0c-4a2f-a899-6cb1b4738b1e",
   "metadata": {},
   "source": [
    "#### Check datatypes en converteer naar het juiste format"
   ]
  },
  {
   "cell_type": "code",
   "execution_count": 9,
   "id": "3fbf2a58-bc00-468f-b277-ee0e2901189f",
   "metadata": {},
   "outputs": [
    {
     "data": {
      "text/plain": [
       "DoW               object\n",
       "hour               int64\n",
       "minute             int64\n",
       "date              object\n",
       "maintenance       object\n",
       "prod_loss         object\n",
       "prod_loss_perc    object\n",
       "production        object\n",
       "location          object\n",
       "dtype: object"
      ]
     },
     "execution_count": 9,
     "metadata": {},
     "output_type": "execute_result"
    }
   ],
   "source": [
    "combined_df_no_maintenance.dtypes"
   ]
  },
  {
   "cell_type": "code",
   "execution_count": 10,
   "id": "166b9f01-ba0b-4075-ba20-3104e8660eb7",
   "metadata": {},
   "outputs": [
    {
     "name": "stdout",
     "output_type": "stream",
     "text": [
      "DoW               object\n",
      "hour               int64\n",
      "minute             int64\n",
      "date              object\n",
      "maintenance       object\n",
      "prod_loss          int64\n",
      "prod_loss_perc     int64\n",
      "production         int64\n",
      "location          object\n",
      "dtype: object\n"
     ]
    }
   ],
   "source": [
    "# Maak een nieuwe DataFrame met de schoongemaakte numerieke kolommen\n",
    "combined_df_cleaned = combined_df_no_maintenance.copy()\n",
    "\n",
    "# Converteer de kolommen naar numerieke datatypes\n",
    "combined_df_cleaned['prod_loss'] = pd.to_numeric(combined_df_cleaned['prod_loss'], errors='coerce')\n",
    "combined_df_cleaned['prod_loss_perc'] = pd.to_numeric(combined_df_cleaned['prod_loss_perc'], errors='coerce')\n",
    "combined_df_cleaned['production'] = pd.to_numeric(combined_df_cleaned['production'], errors='coerce')\n",
    "\n",
    "# Print de datatypes van de nieuwe DataFrame om te controleren\n",
    "print(combined_df_cleaned.dtypes)"
   ]
  },
  {
   "cell_type": "markdown",
   "id": "517786e7-7938-47d5-b378-8f44d00528e6",
   "metadata": {},
   "source": [
    "#### Creëer een histogram per locatie"
   ]
  },
  {
   "cell_type": "code",
   "execution_count": 11,
   "id": "4635add3-3465-43f4-a03c-47eb852630f9",
   "metadata": {},
   "outputs": [
    {
     "data": {
      "image/png": "[encoded data removed]",
      "text/plain": [
       "<Figure size 1500x400 with 2 Axes>"
      ]
     },
     "metadata": {},
     "output_type": "display_data"
    }
   ],
   "source": [
    "# Verkrijg de unieke locaties\n",
    "unique_locations = combined_df_cleaned['location'].unique()\n",
    "\n",
    "# Bereken het aantal rijen/kolommen benodigd voor de subplots\n",
    "n_locs = len(unique_locations)\n",
    "n_cols = 3  # Kies bijvoorbeeld 3 kolommen of een ander gewenst aantal\n",
    "n_rows = n_locs // n_cols + (n_locs % n_cols > 0)\n",
    "\n",
    "# Creëer een figuur en assen voor de subplots\n",
    "fig, axs = plt.subplots(n_rows, n_cols, figsize=(5 * n_cols, 4 * n_rows), squeeze=False)\n",
    "\n",
    "for i, loc in enumerate(unique_locations):\n",
    "    # Bereken de huidige rij en kolom\n",
    "    row = i // n_cols\n",
    "    col = i % n_cols\n",
    "    \n",
    "    # Filter de data voor de huidige locatie\n",
    "    loc_data = combined_df_cleaned[combined_df_cleaned['location'] == loc]['production']\n",
    "    \n",
    "    # Plot histogram van productie voor de huidige locatie\n",
    "    axs[row, col].hist(loc_data, bins=50, alpha=0.7)\n",
    "    axs[row, col].set_title(f'Histogram van productie {loc}')\n",
    "    axs[row, col].set_xlabel('Productie')\n",
    "    axs[row, col].set_ylabel('Frequentie')\n",
    "\n",
    "# Verberg overbodige subplots als het aantal locaties niet perfect in de grid past\n",
    "for i in range(n_locs, n_rows * n_cols):\n",
    "    fig.delaxes(axs.flatten()[i])\n",
    "\n",
    "# Toon de plot\n",
    "plt.tight_layout()\n",
    "plt.show()"
   ]
  },
  {
   "cell_type": "markdown",
   "id": "97f62677",
   "metadata": {},
   "source": [
    "## Stap 5: Bepaal een geschikte verdeling voor het dagelijkse productieproces\n",
    "Onderzoek en bepaal een geschikte kansverdeling die het beste past bij de kenmerken van het \n",
    "productieproces op een dag dat er normaalgesproken gewone productie zou moeten zijn op basis van d \r\n",
    "gegevens."
   ]
  },
  {
   "cell_type": "markdown",
   "id": "28924c49-0051-4aa2-9b60-bea90ad7496b",
   "metadata": {},
   "source": [
    "In bovenstaande grafieken is duidelijk zichtbaar dat een normaalverdeling niet zal volstaan om de data te fitten. Reden is de grote piek ter hoogte van 0, maar ook de lange linkerstaart samen met de korte rechterstaart. Om die reden besluiten we onze histogrammen (visueel) op te delen in 3 delen, en voor elk deel een geschikte fit te vinden. Dagen waarop we weten dat er geen productie is worden buiten beschouwing gelaten. Dagen waarop de productie onverwacht 0 is worden wel mee in rekening gebracht."
   ]
  },
  {
   "cell_type": "markdown",
   "id": "7fc59200-a1de-46bd-ab75-de985d44dff4",
   "metadata": {},
   "source": [
    "#### BRU\n",
    "In het geval van BRU kozen we voor een **puntverdeling** op 0, een **uniforme verdeling** voor het tussengedeelte, en een **normaalverdeling** voor de 'normale' productie."
   ]
  },
  {
   "cell_type": "code",
   "execution_count": 12,
   "id": "0fe5c259-1fb2-4357-8185-5b4b0047683b",
   "metadata": {},
   "outputs": [
    {
     "name": "stdout",
     "output_type": "stream",
     "text": [
      "BRU: % dagen met [productie < 1e-08]: 17.74 %\n",
      "BRU: % dagen met [1e-08 <= productie < 750]: 2.13 %\n",
      "BRU: % dagen met [productie >= 750]: 80.13 %\n"
     ]
    },
    {
     "data": {
      "image/png": "[encoded data removed]",
      "text/plain": [
       "<Figure size 2500x400 with 3 Axes>"
      ]
     },
     "metadata": {},
     "output_type": "display_data"
    }
   ],
   "source": [
    "# Inputparameters BRU\n",
    "location = 'BRU'\n",
    "threshold_1 = 10**(-8)\n",
    "threshold_2 = 750\n",
    "distribution = \"normal\"  # normal or cauchy?\n",
    "\n",
    "# Gebruik de functie 'create_segments' om de segmenten te maken (grenzen werden visueel bepaald)\n",
    "# en het aandeel per segment te berekenen.\n",
    "share_1, share_2, share_3, \\\n",
    "segment_1, segment_2, segment_3 = create_segments(location, threshold_1, threshold_2, combined_df_cleaned)\n",
    "\n",
    "# Print aandeel per segment\n",
    "print_segment_share(location, threshold_1, threshold_2, share_1, share_2, share_3)\n",
    "\n",
    "# Bereken belangrijke segmentwaardes en sla ze op in een .json file\n",
    "filename = os.path.join(output_path, f'{location}.json')\n",
    "results = calculate_and_save_segments_values(location,\n",
    "                                             threshold_1,\n",
    "                                             threshold_2,\n",
    "                                             share_1,\n",
    "                                             segment_2,\n",
    "                                             segment_3,\n",
    "                                             share_2,\n",
    "                                             share_3,\n",
    "                                             distribution,\n",
    "                                             filename)\n",
    "\n",
    "# Genereer grafieken van de 3 segmenten\n",
    "maximum = calculate_maximum(combined_df_cleaned, location)\n",
    "plot_segment_distributions(segment_1, \n",
    "                           segment_2, results[location]['lower_bound_s2'], results[location]['upper_bound_s2'],\n",
    "                           segment_3, distribution, results[location]['param1_s3'], results[location]['param2_s3'],                          \n",
    "                           location, \n",
    "                           threshold_1, \n",
    "                           threshold_2, \n",
    "                           maximum\n",
    "                          )"
   ]
  },
  {
   "cell_type": "markdown",
   "id": "da6a48f1-7184-4e34-b128-7f0a36435e60",
   "metadata": {},
   "source": [
    "#### STO\n",
    "In het geval van STO kozen we voor een **puntverdeling** op 0, een **uniforme verdeling** voor het tussengedeelte, en een **cauchyverdeling** voor de 'normale' productie (heeft een scherpere piek dan de normaalverdeling)."
   ]
  },
  {
   "cell_type": "markdown",
   "id": "ad719f88-9050-48cc-9d41-469f8353d30d",
   "metadata": {},
   "source": [
    "### <font color=\"red\">Zoals gezegd in whatsapp: ik heb grote issues met het simuleren van cauchy verdeelde data... omdat er een tangens in die functie voorkomt en je dus enorm grote waarden kunt hebben (en ook negatieve). In de opdracht staat dat we normale verdeling mogen veronderstellen. Jammer van alle inspanningen maar ik zou dan gewoon alles van cauchy schrappen (nu staat het er nog in). Tenzij je het werkend krijgt, maar mij lukt het niet... (het loopt mis vanaf stap 7, het duurt enorm lang, zelfs voor 1 dag te simuleren, en je ziet aan de schaal dat er problemen zijn met zeer hoge EN lage (negatieve) getallen).</font>"
   ]
  },
  {
   "cell_type": "code",
   "execution_count": 13,
   "id": "a63872d4-7b43-4c28-b58b-084bb4595238",
   "metadata": {},
   "outputs": [
    {
     "name": "stdout",
     "output_type": "stream",
     "text": [
      "STO: % dagen met [productie < 1e-08]: 7.34 %\n",
      "STO: % dagen met [1e-08 <= productie < 150]: 9.62 %\n",
      "STO: % dagen met [productie >= 150]: 83.04 %\n",
      "{'STO': {'threshold_1': 1e-08, 'threshold_2': 150, 'share_1': 0.0734, 'share_2': 0.0962, 'share_3': 0.8304, 'lower_bound_s2': 14, 'upper_bound_s2': 148, 'distribution': 'normal', 'param1_s3': 202.8940350877193, 'param2_s3': 15.599032792738923}}\n"
     ]
    },
    {
     "data": {
      "image/png": "[encoded data removed]",
      "text/plain": [
       "<Figure size 2500x400 with 3 Axes>"
      ]
     },
     "metadata": {},
     "output_type": "display_data"
    }
   ],
   "source": [
    "# Inputparameters STO\n",
    "location = 'STO'\n",
    "threshold_1 = 10**(-8)\n",
    "threshold_2 = 150\n",
    "distribution = \"normal\"  # normal or cauchy?\n",
    "\n",
    "# Gebruik de functie 'create_segments' om de segmenten te maken (grenzen werden visueel bepaald)\n",
    "# en het aandeel per segment te berekenen.\n",
    "share_1, share_2, share_3, \\\n",
    "segment_1, segment_2, segment_3 = create_segments(location, threshold_1, threshold_2, combined_df_cleaned)\n",
    "\n",
    "# Print aandeel per segment\n",
    "print_segment_share(location, threshold_1, threshold_2, share_1, share_2, share_3)\n",
    "\n",
    "# Bereken belangrijke segmentwaardes en sla ze op in een .json file\n",
    "filename = os.path.join(output_path, f'{location}.json')\n",
    "results = calculate_and_save_segments_values(location,\n",
    "                                             threshold_1,\n",
    "                                             threshold_2,\n",
    "                                             share_1,\n",
    "                                             segment_2,\n",
    "                                             segment_3,\n",
    "                                             share_2,\n",
    "                                             share_3,\n",
    "                                             distribution,\n",
    "                                             filename)\n",
    "print(results)\n",
    "# Genereer grafieken van de 3 segmenten\n",
    "maximum = calculate_maximum(combined_df_cleaned, location)\n",
    "plot_segment_distributions(segment_1, \n",
    "                           segment_2, results[location]['lower_bound_s2'], results[location]['upper_bound_s2'],\n",
    "                           segment_3, distribution, results[location]['param1_s3'], results[location]['param2_s3'],                          \n",
    "                           location, \n",
    "                           threshold_1, \n",
    "                           threshold_2, \n",
    "                           maximum\n",
    "                          )"
   ]
  },
  {
   "cell_type": "markdown",
   "id": "92d5f123",
   "metadata": {},
   "source": [
    "## Stap 6: Simulatieprogramma ontwikkelen"
   ]
  },
  {
   "cell_type": "markdown",
   "id": "3b7bc668-fc9a-4fea-9238-b479f5007e30",
   "metadata": {},
   "source": [
    "### <font color=\"red\">Dit klopt nu nog niet denk ik. Je moet geen normaalverdeling simuleren maar wel de verdelingen hierboven. Haal zoals ik in stap 7 gedaan heb de data op. Gebruik zoals in stap 7 de functie simulate(). Inputparameters zouden moeten zijn: locatie + aantal dagen. Lijst met waarden tonen hoeft niet, grafiek lijkt me voldoende.</font>"
   ]
  },
  {
   "cell_type": "code",
   "execution_count": null,
   "id": "b1e9c5eb-09ef-4b2c-bac0-334e1133d8d9",
   "metadata": {},
   "outputs": [],
   "source": [
    "# -----------CARLO------------\n",
    "\n",
    "# Vraag de gebruiker om de duur van de simulatie (n dagen)\n",
    "n = int(input(\"Voer het aantal dagen in voor de simulatie: \"))\n",
    "\n",
    "# Verkrijg de unieke locaties\n",
    "unique_locations = combined_df_cleaned['location'].unique()\n",
    "\n",
    "for i, loc in enumerate(unique_locations):  \n",
    "    # Filter de data voor de huidige locatie\n",
    "    location = unique_locations[i]\n",
    "    loc_data = combined_df_cleaned[combined_df_cleaned['location'] == location]['production']\n",
    "    \n",
    "    # Parameters voor de normaalverdeling (gemiddelde en standaarddeviatie)\n",
    "    mean, std = stats.norm.fit(loc_data) #data_combined_df_cleaned)\n",
    "\n",
    "    # Simuleer de productie\n",
    "    simulated_data = simulate_production(n, mean, std)\n",
    "\n",
    "    # Toon de gesimuleerde productiewaarden\n",
    "    print(\"Gesimuleerde productiewaarden:\")\n",
    "    for i, value in enumerate(simulated_data, 1):\n",
    "        print(f\"Dag {i}: {value}\")\n",
    "\n",
    "    # Maak een chart\n",
    "    chart_title = \"Gesimuleerde productiewaarden\"\n",
    "    line_chart_daily_production(simulated_data, location, chart_title)\n"
   ]
  },
  {
   "cell_type": "markdown",
   "id": "79112b61-5d21-4e6b-a079-a1325c18adfd",
   "metadata": {},
   "source": [
    "## 7 Gebruik je simulatie + vergelijking met de Centrale Limietstelling\n",
    "Gebruik je simulatieprogramma om de productiekansen over een periode van n dagen te simuleren. Maak \n",
    "ook een grafiek van de empirische CDF."
   ]
  },
  {
   "cell_type": "code",
   "execution_count": null,
   "id": "e5b3c636-cfcd-450a-a0aa-42829f4e8bd8",
   "metadata": {},
   "outputs": [],
   "source": [
    "# Inputparameters\n",
    "location = \"STO\"\n",
    "n_days_values = [1, 7, 91]  # 1 dag, 1 week, 3 maanden\n",
    "\n",
    "\n",
    "# Data ophalen\n",
    "filename = os.path.join(output_path, f'{location}.json')\n",
    "\n",
    "with open(filename, 'r') as json_file:\n",
    "    data = json.load(json_file)\n",
    "\n",
    "share_1, share_2, lower_bound_s2, upper_bound_s2, distribution, param1_s3, param2_s3 = \\\n",
    "    (data[location][key] for key in ['share_1', 'share_2',\n",
    "                                     'lower_bound_s2', 'upper_bound_s2',\n",
    "                                     'distribution', 'param1_s3', 'param2_s3'])\n",
    "\n",
    "\n",
    "# Simulate data for each n_days value and plot histograms and CDFs\n",
    "fig, axs = plt.subplots(len(n_days_values), 2, figsize=(15, 5*len(n_days_values)))\n",
    "\n",
    "for i, n_days in enumerate(n_days_values):\n",
    "    # Simulate data\n",
    "    simulated_data = simulate(share_1, share_2, lower_bound_s2, upper_bound_s2, distribution, param1_s3, param2_s3, n_days)\n",
    "    \n",
    "    # Plot histogram\n",
    "    plot_histogram(axs[i, 0], simulated_data, n_days, location)\n",
    "    \n",
    "    # Plot CDF\n",
    "    plot_cdf(axs[i, 1], simulated_data, n_days, location)\n",
    "    \n",
    "    # Add CLT line to CDF plot\n",
    "    mean_simulated = np.mean(simulated_data)\n",
    "    std_simulated = np.std(simulated_data)\n",
    "    x_values = np.linspace(min(simulated_data), max(simulated_data), 100)\n",
    "    y_values = norm.cdf(x_values, mean_simulated, std_simulated)\n",
    "    axs[i, 1].plot(x_values, y_values, label='Centrale Limietstelling', color='red', linestyle='--')\n",
    "    axs[i, 1].legend(loc='upper left')\n",
    "\n",
    "plt.tight_layout()\n",
    "plt.show()"
   ]
  },
  {
   "cell_type": "markdown",
   "id": "671ee2a4-b771-4f33-ba79-640214317d83",
   "metadata": {},
   "source": [
    "De Centrale Limietstelling stelt dat de som van een groot aantal onafhankelijke, identiek verdeelde willekeurige variabelen bij benadering normaal verdeeld zal zijn, ongeacht de oorspronkelijke verdeling van de variabelen. De onderliggende verdeling was allesbehalve normaalverdeeld (owv een groot aandeel 0), maar toch wordt de resulterende verdeling van de som van deze variabelen, zoals geïllustreerd in de laatste rechtergrafiek, benaderd door een normaalverdeling."
   ]
  },
  {
   "cell_type": "markdown",
   "id": "fea34723-95e6-4f7e-8b7e-82fbe48bb1e6",
   "metadata": {},
   "source": [
    "<font color=\"red\">\n",
    "\n",
    "# Dit moet nog gebeuren:\n",
    "- Notebooks checken op overbodige code\n",
    "- Alle tekst in ENG of NL, ook in functies (kies maar)\n",
    "- functies opschonen + docstrings toevoegen (maar ook opschonen!!) in dezelfde taal als hierboven\n",
    "- Maak een HTML export van de notebooks: File -> Save & Export notebook as... -> HTML -> Voeg deze toe aan de folder 'notebooks' (enkel als iedereen erover eens is dat het klaar is)\n",
    "- Genereer/overschrijf 'environment.yml' in de projectfolder: Anaconda Navigator -> Environments -> Selecteer de environment -> Klik op “Back-up”. Verwijder evt. overbodige lijnen uit dit bestand.\n",
    "- Verwijder folders en bestanden in de project-folder die we niet gebruiken\n",
    "- Update de README vlak voor indienen (check de 'XXXXXXXXXXXXXXXXXXXXX').\n",
    "- Open SourceTree -> Stage All -> Commit -> Push -> Check op github.com\n",
    "</font>"
   ]
  },
  {
   "cell_type": "markdown",
   "id": "61c03b76-10c8-4380-9620-32fbdf79839d",
   "metadata": {},
   "source": [
    "# <font color=\"red\"> Alles hieronder mag weg denk ik? </font>"
   ]
  },
  {
   "cell_type": "code",
   "execution_count": null,
   "id": "cca32025-15c5-4754-82d8-12c9bd4ad5bf",
   "metadata": {},
   "outputs": [],
   "source": [
    "# ---------------------@CARLO ik stak jouw CDF gedeelte in de functie plot_cdf, de rest mag weg denk ik? -----------\n",
    "\n",
    "# Inputparameters\n",
    "location = \"BRU\"\n",
    "n_days_values = [1, 10, 100]\n",
    "\n",
    "# Data ophalen\n",
    "filename = os.path.join(output_path, f'{location}.json')\n",
    "\n",
    "with open(filename, 'r') as json_file:\n",
    "    data = json.load(json_file)\n",
    "    print(data)\n",
    "\n",
    "share_1, share_2, lower_bound_s2, upper_bound_s2, distribution, param1_s3, param2_s3 = \\\n",
    "    (data[location][key] for key in ['share_1', 'share_2',\n",
    "                                     'lower_bound_s2', 'upper_bound_s2',\n",
    "                                     'distribution', 'param1_s3', 'param2_s3'])\n",
    "\n",
    "# Simuleer\n",
    "simulated_data = simulate(share_1, share_2, lower_bound_s2, upper_bound_s2, distribution, param1_s3, param2_s3, n_days)\n",
    "#---------------------einde gekopieerde code uit opdracht 5 bovenaan---------------\n",
    "\n",
    "\n",
    "# ECDF: alle gesimuleerde dagen\n",
    "n_days = 'alle'\n",
    "def generate_ecdf(data):\n",
    "    # Sorteer dataset\n",
    "    sorted_data = np.sort(data)\n",
    "    \n",
    "    # Bereken y-as\n",
    "    n = len(data)\n",
    "    y_values = np.arange(1, n + 1) / n\n",
    "\n",
    "    # Plot ECDF\n",
    "    plt.figure(figsize=(8, 6))\n",
    "    plt.step(sorted_data, y_values, where='post', label='ECDF')\n",
    "    plt.xlabel('Production')\n",
    "    plt.ylabel('Probability')\n",
    "    plt.title(f'ECDF {n_days} dagen {location}')\n",
    "    plt.legend()\n",
    "    plt.grid(True)\n",
    "    plt.show()\n",
    "   \n",
    "generate_ecdf(simulated_data)\n",
    "\n",
    "# ECDF: gebruiker kiest aantal dagen\n",
    "n_days = 7\n",
    "\n",
    "def generate_ecdf_multiple_days(mean, std_dev, n_days):\n",
    "    # Genereer productiedata via normale verdeling\n",
    "    production_data = np.random.normal(loc=mean, scale=std_dev, size=n_days)\n",
    "\n",
    "    # Maak ECDF plot van productie-data\n",
    "    generate_ecdf(production_data)\n",
    "\n",
    "# Parameters voor normale verdeling\n",
    "mean = sum(simulated_data)/len(simulated_data)\n",
    "stdev = np.std(np.array(simulated_data))\n",
    "\n",
    "# Maak ECDF plot\n",
    "generate_ecdf_multiple_days(mean, stdev, n_days)"
   ]
  },
  {
   "cell_type": "markdown",
   "id": "f6310037-fd59-43d4-b59a-0e353340b068",
   "metadata": {},
   "source": [
    "## Bonus: Vergelijken met de centrale limietstelling"
   ]
  },
  {
   "cell_type": "code",
   "execution_count": null,
   "id": "52dfaf30-bccd-4ba4-8f7e-0e2bf3a8e7a5",
   "metadata": {},
   "outputs": [],
   "source": [
    "simulated_data_n_100 = simulate(share_1, share_2, threshold_1, threshold_2, mean, stdev, num_values=10**5, n_days=10**2)\n",
    "\n",
    "plt.hist(simulated_data_n_100, bins=round(num_values/10**4+50), density=True, alpha=1)\n",
    "plt.xlabel('Values')\n",
    "plt.ylabel('Frequency')\n",
    "plt.title(f'Histogram of Random Values for {location}')\n",
    "plt.show()"
   ]
  },
  {
   "cell_type": "code",
   "execution_count": null,
   "id": "4000d1c5-0690-46ae-8b06-0c7e81d032c4",
   "metadata": {},
   "outputs": [],
   "source": []
  }
 ],
 "metadata": {
  "kernelspec": {
   "display_name": "Python 3 (ipykernel)",
   "language": "python",
   "name": "python3"
  },
  "language_info": {
   "codemirror_mode": {
    "name": "ipython",
    "version": 3
   },
   "file_extension": ".py",
   "mimetype": "text/x-python",
   "name": "python",
   "nbconvert_exporter": "python",
   "pygments_lexer": "ipython3",
   "version": "3.11.8"
  }
 },
 "nbformat": 4,
 "nbformat_minor": 5
}
