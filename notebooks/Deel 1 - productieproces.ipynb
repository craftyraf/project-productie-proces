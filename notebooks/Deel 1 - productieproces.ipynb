{
 "cells": [
  {
   "cell_type": "markdown",
   "id": "0fb3d9a7-63dd-4d22-a7ec-fa3aba0c7b26",
   "metadata": {},
   "source": [
    "# Project Productie Proces\n",
    "- Carlo Dieltjens - Raf Mesotten - Yannick Pottiez\n",
    "- April 2024"
   ]
  },
  {
   "cell_type": "markdown",
   "id": "fbcf5cbf-ec50-4842-bc94-104a787a0b61",
   "metadata": {},
   "source": [
    "## Stap 0: Importeren"
   ]
  },
  {
   "cell_type": "markdown",
   "id": "d185d00a-17f2-4f31-9766-92a94ea759f7",
   "metadata": {},
   "source": [
    "#### Libraries"
   ]
  },
  {
   "cell_type": "code",
   "execution_count": 1,
   "id": "97529cc2",
   "metadata": {},
   "outputs": [],
   "source": [
    "import pandas as pd\n",
    "import numpy as np\n",
    "import os\n",
    "import json\n",
    "import sys\n",
    "import matplotlib.pyplot as plt \n",
    "import scipy.stats as stats\n",
    "from scipy.stats import cauchy"
   ]
  },
  {
   "cell_type": "code",
   "execution_count": 2,
   "id": "d788ad60-bf6b-4ee9-ac66-34247ab5decb",
   "metadata": {},
   "outputs": [],
   "source": [
    "# Vermijd toekomstige deprecated-fouten bij onder meer histogrammen\n",
    "pd.set_option('future.no_silent_downcasting', True)"
   ]
  },
  {
   "cell_type": "markdown",
   "id": "0c07e52d-fab5-4642-93ae-9d2ffafdcd4d",
   "metadata": {},
   "source": [
    "#### Functies"
   ]
  },
  {
   "cell_type": "code",
   "execution_count": 3,
   "id": "c082e471-5e42-44dc-b97a-6fc80b64dc37",
   "metadata": {},
   "outputs": [],
   "source": [
    "sys.path.append('../scripts')  # definieer path met scripts\n",
    "from thresholds import create_segments"
   ]
  },
  {
   "cell_type": "markdown",
   "id": "9655e1bf-ea50-4dd2-93b3-71f7263f5b75",
   "metadata": {},
   "source": [
    "## Stap 1: Gegevens downloaden en organiseren\n",
    "Alle input staat in de folder ```data\\input```."
   ]
  },
  {
   "cell_type": "code",
   "execution_count": 4,
   "id": "02a81cb1-f0ff-4f95-bbb7-94c7fd5855ad",
   "metadata": {},
   "outputs": [],
   "source": [
    "input_path = os.path.join('..', 'data', 'input')"
   ]
  },
  {
   "cell_type": "markdown",
   "id": "c5c55431-0298-449e-ba6a-c07616c78356",
   "metadata": {},
   "source": [
    "## Stap 2: Git Repository initialiseren\n",
    "https://github.com/craftyraf/project-productie-proces"
   ]
  },
  {
   "cell_type": "markdown",
   "id": "212e6f97-ebfe-4272-87be-4d01541ff556",
   "metadata": {},
   "source": [
    "## Stap 3: Creëer een virtuele omgeving met Anaconda\n",
    "Enkel de nodige pakketten werden geinstalleerd.\n",
    "In README.md staat uitgelegd hoe je je virtual environment kan opzetten."
   ]
  },
  {
   "cell_type": "markdown",
   "id": "353abf6e",
   "metadata": {},
   "source": [
    "## Stap 4a: Lezen van gegevens in Python"
   ]
  },
  {
   "cell_type": "markdown",
   "id": "b0e0318e-874c-4143-8952-5f7400ca9e46",
   "metadata": {},
   "source": [
    "#### Inlezen van 1 .json bestand"
   ]
  },
  {
   "cell_type": "code",
   "execution_count": 5,
   "id": "ee75ce77",
   "metadata": {},
   "outputs": [
    {
     "data": {
      "text/html": [
       "<div>\n",
       "<style scoped>\n",
       "    .dataframe tbody tr th:only-of-type {\n",
       "        vertical-align: middle;\n",
       "    }\n",
       "\n",
       "    .dataframe tbody tr th {\n",
       "        vertical-align: top;\n",
       "    }\n",
       "\n",
       "    .dataframe thead th {\n",
       "        text-align: right;\n",
       "    }\n",
       "</style>\n",
       "<table border=\"1\" class=\"dataframe\">\n",
       "  <thead>\n",
       "    <tr style=\"text-align: right;\">\n",
       "      <th></th>\n",
       "      <th>0</th>\n",
       "    </tr>\n",
       "  </thead>\n",
       "  <tbody>\n",
       "    <tr>\n",
       "      <th>DoW</th>\n",
       "      <td>Monday</td>\n",
       "    </tr>\n",
       "    <tr>\n",
       "      <th>hour</th>\n",
       "      <td>1</td>\n",
       "    </tr>\n",
       "    <tr>\n",
       "      <th>minute</th>\n",
       "      <td>0</td>\n",
       "    </tr>\n",
       "    <tr>\n",
       "      <th>date</th>\n",
       "      <td>01-01-2018 00:00:00.0000</td>\n",
       "    </tr>\n",
       "    <tr>\n",
       "      <th>maintenance</th>\n",
       "      <td>No</td>\n",
       "    </tr>\n",
       "    <tr>\n",
       "      <th>prod_loss</th>\n",
       "      <td>61</td>\n",
       "    </tr>\n",
       "    <tr>\n",
       "      <th>prod_loss_perc</th>\n",
       "      <td>5</td>\n",
       "    </tr>\n",
       "    <tr>\n",
       "      <th>production</th>\n",
       "      <td>1183</td>\n",
       "    </tr>\n",
       "  </tbody>\n",
       "</table>\n",
       "</div>"
      ],
      "text/plain": [
       "                                       0\n",
       "DoW                               Monday\n",
       "hour                                   1\n",
       "minute                                 0\n",
       "date            01-01-2018 00:00:00.0000\n",
       "maintenance                           No\n",
       "prod_loss                             61\n",
       "prod_loss_perc                         5\n",
       "production                          1183"
      ]
     },
     "execution_count": 5,
     "metadata": {},
     "output_type": "execute_result"
    }
   ],
   "source": [
    "df = pd.read_json(os.path.join(input_path, \n",
    "                               'data_productie', \n",
    "                               'daily_production', \n",
    "                               'BRU', \n",
    "                               '20180101.json'), \n",
    "                  orient='index')\n",
    "df"
   ]
  },
  {
   "cell_type": "markdown",
   "id": "a9bf08f9-b4cd-41da-859e-c2f05c7c4796",
   "metadata": {},
   "source": [
    "#### Inlezen van alle .json bestanden + samenvoegen in 1 dataframe voor alle locaties (met extra kolom: 'location')"
   ]
  },
  {
   "cell_type": "code",
   "execution_count": 6,
   "id": "59916205-8845-4cf6-9152-f1273de83eb0",
   "metadata": {},
   "outputs": [
    {
     "data": {
      "text/html": [
       "<div>\n",
       "<style scoped>\n",
       "    .dataframe tbody tr th:only-of-type {\n",
       "        vertical-align: middle;\n",
       "    }\n",
       "\n",
       "    .dataframe tbody tr th {\n",
       "        vertical-align: top;\n",
       "    }\n",
       "\n",
       "    .dataframe thead th {\n",
       "        text-align: right;\n",
       "    }\n",
       "</style>\n",
       "<table border=\"1\" class=\"dataframe\">\n",
       "  <thead>\n",
       "    <tr style=\"text-align: right;\">\n",
       "      <th></th>\n",
       "      <th>DoW</th>\n",
       "      <th>hour</th>\n",
       "      <th>minute</th>\n",
       "      <th>date</th>\n",
       "      <th>maintenance</th>\n",
       "      <th>prod_loss</th>\n",
       "      <th>prod_loss_perc</th>\n",
       "      <th>production</th>\n",
       "      <th>location</th>\n",
       "    </tr>\n",
       "  </thead>\n",
       "  <tbody>\n",
       "    <tr>\n",
       "      <th>0</th>\n",
       "      <td>Monday</td>\n",
       "      <td>1</td>\n",
       "      <td>0</td>\n",
       "      <td>01-01-2018 00:00:00.0000</td>\n",
       "      <td>No</td>\n",
       "      <td>61</td>\n",
       "      <td>5</td>\n",
       "      <td>1183</td>\n",
       "      <td>BRU</td>\n",
       "    </tr>\n",
       "    <tr>\n",
       "      <th>1</th>\n",
       "      <td>Tuesday</td>\n",
       "      <td>1</td>\n",
       "      <td>0</td>\n",
       "      <td>01-02-2018 00:00:00.0000</td>\n",
       "      <td>No</td>\n",
       "      <td>106</td>\n",
       "      <td>9</td>\n",
       "      <td>1138</td>\n",
       "      <td>BRU</td>\n",
       "    </tr>\n",
       "    <tr>\n",
       "      <th>2</th>\n",
       "      <td>Wednesday</td>\n",
       "      <td>1</td>\n",
       "      <td>0</td>\n",
       "      <td>01-03-2018 00:00:00.0000</td>\n",
       "      <td>No</td>\n",
       "      <td>129</td>\n",
       "      <td>10</td>\n",
       "      <td>1115</td>\n",
       "      <td>BRU</td>\n",
       "    </tr>\n",
       "    <tr>\n",
       "      <th>3</th>\n",
       "      <td>Thursday</td>\n",
       "      <td>1</td>\n",
       "      <td>0</td>\n",
       "      <td>01-04-2018 00:00:00.0000</td>\n",
       "      <td>No</td>\n",
       "      <td>278</td>\n",
       "      <td>22</td>\n",
       "      <td>966</td>\n",
       "      <td>BRU</td>\n",
       "    </tr>\n",
       "    <tr>\n",
       "      <th>4</th>\n",
       "      <td>Friday</td>\n",
       "      <td>1</td>\n",
       "      <td>0</td>\n",
       "      <td>01-05-2018 00:00:00.0000</td>\n",
       "      <td>No</td>\n",
       "      <td>218</td>\n",
       "      <td>17</td>\n",
       "      <td>1026</td>\n",
       "      <td>BRU</td>\n",
       "    </tr>\n",
       "    <tr>\n",
       "      <th>...</th>\n",
       "      <td>...</td>\n",
       "      <td>...</td>\n",
       "      <td>...</td>\n",
       "      <td>...</td>\n",
       "      <td>...</td>\n",
       "      <td>...</td>\n",
       "      <td>...</td>\n",
       "      <td>...</td>\n",
       "      <td>...</td>\n",
       "    </tr>\n",
       "    <tr>\n",
       "      <th>3655</th>\n",
       "      <td>Saturday</td>\n",
       "      <td>1</td>\n",
       "      <td>0</td>\n",
       "      <td>12-31-2022 00:00:00.0000</td>\n",
       "      <td>No</td>\n",
       "      <td>51</td>\n",
       "      <td>19</td>\n",
       "      <td>223</td>\n",
       "      <td>STO</td>\n",
       "    </tr>\n",
       "    <tr>\n",
       "      <th>3656</th>\n",
       "      <td>Sunday</td>\n",
       "      <td>1</td>\n",
       "      <td>0</td>\n",
       "      <td>01-01-2023 00:00:00.0000</td>\n",
       "      <td>No</td>\n",
       "      <td>53</td>\n",
       "      <td>20</td>\n",
       "      <td>221</td>\n",
       "      <td>STO</td>\n",
       "    </tr>\n",
       "    <tr>\n",
       "      <th>3657</th>\n",
       "      <td>Monday</td>\n",
       "      <td>1</td>\n",
       "      <td>0</td>\n",
       "      <td>01-02-2023 00:00:00.0000</td>\n",
       "      <td>No</td>\n",
       "      <td>61</td>\n",
       "      <td>22</td>\n",
       "      <td>213</td>\n",
       "      <td>STO</td>\n",
       "    </tr>\n",
       "    <tr>\n",
       "      <th>3658</th>\n",
       "      <td>Tuesday</td>\n",
       "      <td>1</td>\n",
       "      <td>0</td>\n",
       "      <td>01-03-2023 00:00:00.0000</td>\n",
       "      <td>No</td>\n",
       "      <td>70</td>\n",
       "      <td>25</td>\n",
       "      <td>204</td>\n",
       "      <td>STO</td>\n",
       "    </tr>\n",
       "    <tr>\n",
       "      <th>3659</th>\n",
       "      <td>Wednesday</td>\n",
       "      <td>1</td>\n",
       "      <td>0</td>\n",
       "      <td>01-04-2023 00:00:00.0000</td>\n",
       "      <td>No</td>\n",
       "      <td>69</td>\n",
       "      <td>25</td>\n",
       "      <td>205</td>\n",
       "      <td>STO</td>\n",
       "    </tr>\n",
       "  </tbody>\n",
       "</table>\n",
       "<p>3660 rows × 9 columns</p>\n",
       "</div>"
      ],
      "text/plain": [
       "            DoW  hour  minute                      date maintenance prod_loss  \\\n",
       "0        Monday     1       0  01-01-2018 00:00:00.0000          No        61   \n",
       "1       Tuesday     1       0  01-02-2018 00:00:00.0000          No       106   \n",
       "2     Wednesday     1       0  01-03-2018 00:00:00.0000          No       129   \n",
       "3      Thursday     1       0  01-04-2018 00:00:00.0000          No       278   \n",
       "4        Friday     1       0  01-05-2018 00:00:00.0000          No       218   \n",
       "...         ...   ...     ...                       ...         ...       ...   \n",
       "3655   Saturday     1       0  12-31-2022 00:00:00.0000          No        51   \n",
       "3656     Sunday     1       0  01-01-2023 00:00:00.0000          No        53   \n",
       "3657     Monday     1       0  01-02-2023 00:00:00.0000          No        61   \n",
       "3658    Tuesday     1       0  01-03-2023 00:00:00.0000          No        70   \n",
       "3659  Wednesday     1       0  01-04-2023 00:00:00.0000          No        69   \n",
       "\n",
       "     prod_loss_perc production location  \n",
       "0                 5       1183      BRU  \n",
       "1                 9       1138      BRU  \n",
       "2                10       1115      BRU  \n",
       "3                22        966      BRU  \n",
       "4                17       1026      BRU  \n",
       "...             ...        ...      ...  \n",
       "3655             19        223      STO  \n",
       "3656             20        221      STO  \n",
       "3657             22        213      STO  \n",
       "3658             25        204      STO  \n",
       "3659             25        205      STO  \n",
       "\n",
       "[3660 rows x 9 columns]"
      ]
     },
     "execution_count": 6,
     "metadata": {},
     "output_type": "execute_result"
    }
   ],
   "source": [
    "# Functie om JSON-bestanden te lezen en DataFrame te maken\n",
    "def read_json_files(directory_path, location):\n",
    "    dataframes = []\n",
    "    for filename in os.listdir(directory_path):\n",
    "        if filename.endswith(\".json\"):\n",
    "            full_path = os.path.join(directory_path, filename)\n",
    "            with open(full_path, 'r') as f:\n",
    "                json_data = json.load(f)\n",
    "                df = pd.DataFrame([json_data])\n",
    "                df['location'] = location  # Voeg 'location' kolom toe met locatienaam\n",
    "                dataframes.append(df)\n",
    "    return pd.concat(dataframes, ignore_index=True)\n",
    "\n",
    "# Definieer paden voor BRU en STO\n",
    "directory_path_BRU = os.path.join(input_path, 'data_productie', 'daily_production', 'BRU')\n",
    "directory_path_STO = os.path.join(input_path, 'data_productie', 'daily_production', 'STO')\n",
    "\n",
    "# Lees JSON-bestanden en maak DataFrame met 'Location' kolom\n",
    "BRU_df = read_json_files(directory_path_BRU, 'BRU')\n",
    "STO_df = read_json_files(directory_path_STO, 'STO')\n",
    "\n",
    "# Concateneer BRU en STO DataFrames\n",
    "combined_df = pd.concat([BRU_df, STO_df], ignore_index=True)\n",
    "\n",
    "# Toon gecombineerde DataFrame\n",
    "combined_df"
   ]
  },
  {
   "cell_type": "markdown",
   "id": "0fccdded-8d03-44e0-ab7d-d04d127804bf",
   "metadata": {},
   "source": [
    "#### Filter alle records waarbij onderhoud plaatsvond"
   ]
  },
  {
   "cell_type": "code",
   "execution_count": 7,
   "id": "23c386ac-3a9a-4928-a96b-4b0e7c170d51",
   "metadata": {},
   "outputs": [
    {
     "name": "stdout",
     "output_type": "stream",
     "text": [
      "maintenance\n",
      "No     3452\n",
      "Yes     208\n",
      "Name: count, dtype: int64\n"
     ]
    }
   ],
   "source": [
    "# Unieke waarden met hun aantallen voor 'maintenance' in BRU_df\n",
    "unique_values_counts = combined_df['maintenance'].value_counts()\n",
    "print(unique_values_counts)\n",
    "\n",
    "# Behoud enkel de records met 'maintenance = No'\n",
    "combined_df_no_maintenance = combined_df[combined_df['maintenance'] == 'No']"
   ]
  },
  {
   "cell_type": "markdown",
   "id": "ebe858a6-17c0-4ec1-8f9a-f1256df0086c",
   "metadata": {},
   "source": [
    "#### Controle of er NaN-waarden in het dataframe zit"
   ]
  },
  {
   "cell_type": "markdown",
   "id": "e25c16bb-3226-4359-bae3-f98359038e87",
   "metadata": {},
   "source": [
    "Er zitten geen NaN-waarden in combined_df_no_maintenance:"
   ]
  },
  {
   "cell_type": "code",
   "execution_count": 8,
   "id": "98e9e614-af58-4614-92f0-f6ae417a470a",
   "metadata": {},
   "outputs": [
    {
     "name": "stdout",
     "output_type": "stream",
     "text": [
      "Aantal NaN-waarden per kolom in combined_df_no_maintenance:\n",
      "DoW: 0\n",
      "hour: 0\n",
      "minute: 0\n",
      "date: 0\n",
      "maintenance: 0\n",
      "prod_loss: 0\n",
      "prod_loss_perc: 0\n",
      "production: 0\n",
      "location: 0\n"
     ]
    }
   ],
   "source": [
    "print(\"Aantal NaN-waarden per kolom in combined_df_no_maintenance:\")\n",
    "for column in combined_df_no_maintenance.columns:\n",
    "    nan_count = combined_df_no_maintenance[column].isna().sum()\n",
    "    print(f\"{column}: {nan_count}\")"
   ]
  },
  {
   "cell_type": "markdown",
   "id": "dc8e1a0a-6a0c-4a2f-a899-6cb1b4738b1e",
   "metadata": {},
   "source": [
    "#### Check datatypes en converteer naar het juiste format"
   ]
  },
  {
   "cell_type": "code",
   "execution_count": 9,
   "id": "3fbf2a58-bc00-468f-b277-ee0e2901189f",
   "metadata": {},
   "outputs": [
    {
     "data": {
      "text/plain": [
       "DoW               object\n",
       "hour               int64\n",
       "minute             int64\n",
       "date              object\n",
       "maintenance       object\n",
       "prod_loss         object\n",
       "prod_loss_perc    object\n",
       "production        object\n",
       "location          object\n",
       "dtype: object"
      ]
     },
     "execution_count": 9,
     "metadata": {},
     "output_type": "execute_result"
    }
   ],
   "source": [
    "combined_df_no_maintenance.dtypes"
   ]
  },
  {
   "cell_type": "code",
   "execution_count": 10,
   "id": "166b9f01-ba0b-4075-ba20-3104e8660eb7",
   "metadata": {},
   "outputs": [
    {
     "name": "stdout",
     "output_type": "stream",
     "text": [
      "DoW               object\n",
      "hour               int64\n",
      "minute             int64\n",
      "date              object\n",
      "maintenance       object\n",
      "prod_loss          int64\n",
      "prod_loss_perc     int64\n",
      "production         int64\n",
      "location          object\n",
      "dtype: object\n"
     ]
    }
   ],
   "source": [
    "# Maak een nieuwe DataFrame met de schoongemaakte numerieke kolommen\n",
    "combined_df_cleaned = combined_df_no_maintenance.copy()\n",
    "\n",
    "# Converteer de kolommen naar numerieke datatypes\n",
    "combined_df_cleaned['prod_loss'] = pd.to_numeric(combined_df_cleaned['prod_loss'], errors='coerce')\n",
    "combined_df_cleaned['prod_loss_perc'] = pd.to_numeric(combined_df_cleaned['prod_loss_perc'], errors='coerce')\n",
    "combined_df_cleaned['production'] = pd.to_numeric(combined_df_cleaned['production'], errors='coerce')\n",
    "\n",
    "# Print de datatypes van de nieuwe DataFrame om te controleren\n",
    "print(combined_df_cleaned.dtypes)"
   ]
  },
  {
   "cell_type": "markdown",
   "id": "517786e7-7938-47d5-b378-8f44d00528e6",
   "metadata": {},
   "source": [
    "#### Creëer een histogram per locatie"
   ]
  },
  {
   "cell_type": "code",
   "execution_count": 11,
   "id": "4635add3-3465-43f4-a03c-47eb852630f9",
   "metadata": {},
   "outputs": [
    {
     "data": {
      "image/png": "[encoded data removed]",
      "text/plain": [
       "<Figure size 1500x400 with 2 Axes>"
      ]
     },
     "metadata": {},
     "output_type": "display_data"
    }
   ],
   "source": [
    "# Verkrijg de unieke locaties\n",
    "unique_locations = combined_df_cleaned['location'].unique()\n",
    "\n",
    "# Bereken het aantal rijen/kolommen benodigd voor de subplots\n",
    "n_locs = len(unique_locations)\n",
    "n_cols = 3  # Kies bijvoorbeeld 3 kolommen of een ander gewenst aantal\n",
    "n_rows = n_locs // n_cols + (n_locs % n_cols > 0)\n",
    "\n",
    "# Creëer een figuur en assen voor de subplots\n",
    "fig, axs = plt.subplots(n_rows, n_cols, figsize=(5 * n_cols, 4 * n_rows), squeeze=False)\n",
    "\n",
    "for i, loc in enumerate(unique_locations):\n",
    "    # Bereken de huidige rij en kolom\n",
    "    row = i // n_cols\n",
    "    col = i % n_cols\n",
    "    \n",
    "    # Filter de data voor de huidige locatie\n",
    "    loc_data = combined_df_cleaned[combined_df_cleaned['location'] == loc]['production']\n",
    "    \n",
    "    # Plot histogram van productie voor de huidige locatie\n",
    "    axs[row, col].hist(loc_data, bins=50, alpha=0.7)\n",
    "    axs[row, col].set_title(f'Histogram van productie {loc}')\n",
    "    axs[row, col].set_xlabel('Productie')\n",
    "    axs[row, col].set_ylabel('Frequentie')\n",
    "\n",
    "# Verberg overbodige subplots als het aantal locaties niet perfect in de grid past\n",
    "for i in range(n_locs, n_rows * n_cols):\n",
    "    fig.delaxes(axs.flatten()[i])\n",
    "\n",
    "# Toon de plot\n",
    "plt.tight_layout()\n",
    "plt.show()"
   ]
  },
  {
   "cell_type": "markdown",
   "id": "97f62677",
   "metadata": {},
   "source": [
    "### Stap 5: Bepaal een geschikte verdeling voor het dagelijkse productieproces"
   ]
  },
  {
   "cell_type": "markdown",
   "id": "28924c49-0051-4aa2-9b60-bea90ad7496b",
   "metadata": {},
   "source": [
    "In bovenstaande grafieken is duidelijk zichtbaar dat een normaalverdeling niet zal volstaan om de data te fitten. Reden is de grote piek ter hoogte van 0, maar ook de lange linkerstaart samen met de korte rechterstaart. Om die reden besluiten we onze histogrammen (visueel) op te delen in 3 delen, en voor elk deel een geschikte fit te vinden."
   ]
  },
  {
   "cell_type": "markdown",
   "id": "7fc59200-a1de-46bd-ab75-de985d44dff4",
   "metadata": {},
   "source": [
    "#### BRU"
   ]
  },
  {
   "cell_type": "code",
   "execution_count": 18,
   "id": "04c34d1b",
   "metadata": {},
   "outputs": [
    {
     "name": "stdout",
     "output_type": "stream",
     "text": [
      "% aandeel dagen met 0 productie: 17.0 %\n"
     ]
    },
    {
     "data": {
      "image/png": "[encoded data removed]",
      "text/plain": [
       "<Figure size 2500x300 with 3 Axes>"
      ]
     },
     "metadata": {},
     "output_type": "display_data"
    }
   ],
   "source": [
    "# Gebruik de functie om de segmenten te maken (grenzen werden visueel bepaald)\n",
    "BRU_segment_1, BRU_segment_2, BRU_segment_3, \\\n",
    "location, threshold_1, threshold_2 = create_segments('BRU', 10**(-8), 750, combined_df_cleaned)\n",
    "\n",
    "plt.subplots(1, 3, figsize=(25, 3), gridspec_kw={'width_ratios': [4, 4, 4]}) \n",
    "\n",
    "# Segment 1: Productie = 0\n",
    "plt.subplot(1, 3, 1)\n",
    "BRU_share_1 = round((len(BRU_segment_1)*100) / len (BRU_df),0 )\n",
    "print('% aandeel dagen met 0 productie:', BRU_share_1, '%')\n",
    "\n",
    "data_bru_norm_1 = BRU_segment_1['production']\n",
    "\n",
    "plt.xlim(xmin=0, xmax = 1250)\n",
    "plt.hist(data_bru_norm_1, bins=1, density=True, alpha=0.6, color='g', width=50)\n",
    "\n",
    "plt.title(f\"{location} Productie < {threshold_1}\") # (share:'+ str(BRU_share_1)+'%)')\n",
    "plt.xlabel('Productie')\n",
    "plt.ylabel('Dichtheid')\n",
    "\n",
    "# Segment 2: uniforme verdeling\n",
    "plt.subplot(1, 3, 2)\n",
    "data_bru_norm_2 = BRU_segment_2['production']\n",
    "mean_bru_norm_2, std_bru_norm_2 = stats.uniform.fit(data_bru_norm_2)\n",
    "\n",
    "plt.hist(data_bru_norm_2, bins=50, density=True, alpha=0.6, color='g', label='Histogram')\n",
    "\n",
    "xmin, xmax = plt.xlim()\n",
    "plt.xlim(xmin=0, xmax = 1250)\n",
    "x_bru_norm_2 = np.linspace(xmin, xmax, 100)\n",
    "p_bru_norm_2 = stats.uniform.pdf(x_bru_norm_2, mean_bru_norm_2, std_bru_norm_2)\n",
    "plt.plot(x_bru_norm_2, p_bru_norm_2, 'k', linewidth=2, label='Uniforme verdeling')\n",
    "\n",
    "plt.title(f\"{threshold_1} <= {location} Productie < {threshold_2}\")\n",
    "plt.xlabel('Productie')\n",
    "plt.ylabel('Dichtheid')\n",
    "plt.legend()\n",
    "\n",
    "# Segment 3: standaardnormale verdeling\n",
    "plt.subplot(1, 3, 3) # row 1, col 2 index 3\n",
    "data_bru_norm_3 = BRU_segment_3['production']\n",
    "mean_bru_norm_3, std_bru_norm_3 = stats.norm.fit(data_bru_norm_3)\n",
    "\n",
    "# Histogram voor BRU_prod_df rechterkant\n",
    "plt.hist(data_bru_norm_3, bins=50, density=True, alpha=0.6, color='g', label='Histogram')\n",
    "\n",
    "xmin, xmax = plt.xlim()\n",
    "plt.xlim(xmin=0, xmax = 1250)\n",
    "x_bru_norm_3 = np.linspace(xmin, xmax, 100)\n",
    "p_bru_norm_3 = stats.norm.pdf(x_bru_norm_3, mean_bru_norm_3, std_bru_norm_3)\n",
    "plt.plot(x_bru_norm_3, p_bru_norm_3, 'k', linewidth=2, label='Normaalverdeling')\n",
    "\n",
    "plt.title(f\"{location} Productie >= {threshold_2}\")\n",
    "plt.xlabel('Productie')\n",
    "plt.ylabel('Dichtheid')\n",
    "plt.legend()\n",
    "\n",
    "plt.subplots_adjust(wspace=0.2) \n",
    "plt.show()"
   ]
  },
  {
   "cell_type": "code",
   "execution_count": null,
   "id": "fcae00e2-4c40-4b5d-886f-7413bb4aaa58",
   "metadata": {},
   "outputs": [],
   "source": [
    "#----------------------STO----------------------\n",
    "\n",
    "# Opdelen in 3 segmenten\n",
    "# Segment 1: Geen onderhoud en productie < 10 ** (-8) voor locatie BRU\n",
    "STO_segment_1 = combined_df_cleaned[\n",
    "    (combined_df_cleaned['location'] == 'STO') &\n",
    "    (combined_df_cleaned['production'] < 10 ** (-8))\n",
    "]\n",
    "\n",
    "# Segment 2: Geen onderhoud, productie > 0 en < 150 voor locatie BRU\n",
    "STO_segment_2 = combined_df_cleaned[\n",
    "    (combined_df_cleaned['location'] == 'STO') &\n",
    "    (combined_df_cleaned['production'] > 0) &\n",
    "    (combined_df_cleaned['production'] < 150)\n",
    "]\n",
    "\n",
    "# Segment 3: Geen onderhoud en productie > 150 voor locatie BRU\n",
    "STO_segment_3 = combined_df_cleaned[\n",
    "    (combined_df_cleaned['location'] == 'STO') &\n",
    "    (combined_df_cleaned['production'] > 150)\n",
    "]\n",
    "\n",
    "plt.subplots(1, 3, figsize=(25, 3), gridspec_kw={'width_ratios': [4, 4, 4]}) \n",
    "\n",
    "#Segment 1: Productie = 0\n",
    "plt.subplot(1, 3, 1)\n",
    "sto_share_1 = round((len(STO_segment_1)*100) / len (STO_df),0 )\n",
    "print('% aandeel dagen met 0 productie:', sto_share_1, '%')\n",
    "\n",
    "data_bru_norm_1 = STO_segment_1['production']\n",
    "\n",
    "plt.xlim(xmin=0, xmax = 275)\n",
    "plt.hist(data_bru_norm_1, bins=1, density=True, alpha=0.6, color='b', width=5)\n",
    "\n",
    "plt.title('STO Productie = 0') # (share:'+ str(BRU_share_1)+'%)')\n",
    "plt.xlabel('Productie')\n",
    "plt.ylabel('Dichtheid')\n",
    "\n",
    "# Segment 2: uniforme verdeling\n",
    "plt.subplot(1, 3, 2)\n",
    "data_sto_norm_2 = STO_segment_2['production']\n",
    "mean_sto_norm_2, std_sto_norm_2 = stats.uniform.fit(data_sto_norm_2)\n",
    "\n",
    "plt.hist(data_sto_norm_2, bins=50, density=True, alpha=0.6, color='b', label='Histogram')\n",
    "\n",
    "xmin, xmax = plt.xlim()\n",
    "plt.xlim(xmin=0, xmax = 275)\n",
    "x_sto_norm_2 = np.linspace(xmin, xmax, 100)\n",
    "p_sto_norm_2 = stats.uniform.pdf(x_sto_norm_2, mean_sto_norm_2, std_sto_norm_2)\n",
    "plt.plot(x_sto_norm_2, p_sto_norm_2, 'k', linewidth=2, label='Uniforme verdeling')\n",
    "\n",
    "plt.title('0 < STO Productie < 150')\n",
    "plt.xlabel('Productie')\n",
    "plt.ylabel('Dichtheid')\n",
    "plt.legend()\n",
    "\n",
    "#Segment 3: Cauchy verdeling\n",
    "plt.subplot(1, 3, 3)\n",
    "data_sto_norm_3 = STO_segment_3['production']\n",
    "mean_sto_norm_3, std_sto_norm_3 = stats.norm.fit(data_sto_norm_3)\n",
    "\n",
    "loc_sto_3, scale_sto_3 = cauchy.fit(data_sto_norm_3)\n",
    "# scale_sto_3 *= 1 # maak piek van cauchy verdeling scherper\n",
    "\n",
    "# Histogram STO_prod_df\n",
    "plt.hist(data_sto_norm_3, bins=50, density=True, alpha=0.6, color='b', label='Histogram')\n",
    "\n",
    "# Cauchy verdeling for STO_prod_df\n",
    "xmin, xmax = plt.xlim()\n",
    "x_sto_3 = np.linspace(xmin, xmax, 100)\n",
    "p_sto_3 = cauchy.pdf(x_sto_3, loc=loc_sto_3, scale=scale_sto_3)\n",
    "plt.plot(x_sto_3, p_sto_3, 'k', linewidth=2, label='Cauchy verdeling')\n",
    "\n",
    "plt.title('Histogram en Cauchy verdeling van productie Stockholm')\n",
    "plt.xlabel('Productie')\n",
    "plt.ylabel('Dichtheid')\n",
    "plt.legend()\n",
    "plt.show()\n",
    "\n",
    "plt.subplots_adjust(wspace=0.2) \n",
    "plt.show()"
   ]
  },
  {
   "cell_type": "markdown",
   "id": "92d5f123",
   "metadata": {},
   "source": [
    "### Stap 6: Simulatieprogramma ontwikkelen"
   ]
  },
  {
   "cell_type": "code",
   "execution_count": null,
   "id": "0ae651e7",
   "metadata": {},
   "outputs": [],
   "source": [
    "# Functie om de productie te simuleren\n",
    "def simulate_production(n, mean, std):\n",
    "    # Genereer een array van normaal verdeelde productiewaarden\n",
    "    production_values = np.random.normal(mean, std, n)\n",
    "    \n",
    "    # Initialiseer een lege lijst om de gesimuleerde producties op te slaan\n",
    "    simulated_production = []\n",
    "    \n",
    "    # Simuleer de productie voor elke dag\n",
    "    for value in production_values:\n",
    "        # Bereken de kans op 0 productie met de cumulatieve distributiefunctie (CDF) van de normaalverdeling\n",
    "        zero_production_prob = stats.norm.cdf(0, loc=value, scale=std)\n",
    "        \n",
    "        # Genereer een willekeurige waarde tussen 0 en 1\n",
    "        random_prob = np.random.rand()\n",
    "        \n",
    "        # Bepaal de gesimuleerde productiewaarde op basis van de kans\n",
    "        if random_prob < zero_production_prob:\n",
    "            simulated_production.append(0)\n",
    "        else:\n",
    "            simulated_production.append(value)\n",
    "    \n",
    "    return simulated_production\n",
    "\n",
    "# Parameters voor de normaalverdeling (gemiddelde en standaarddeviatie)\n",
    "mean = mean_bru  # Gemiddelde productie\n",
    "std = std_bru   # Standaarddeviatie van de productie\n",
    "\n",
    "# Vraag de gebruiker om de duur van de simulatie (n dagen)\n",
    "n = int(input(\"Voer het aantal dagen in voor de simulatie: \"))\n",
    "\n",
    "# Simuleer de productie\n",
    "simulated_data = simulate_production(n, mean, std)\n",
    "\n",
    "# Toon de gesimuleerde productiewaarden\n",
    "print(\"Gesimuleerde productiewaarden:\")\n",
    "for i, value in enumerate(simulated_data, 1):\n",
    "    print(f\"Dag {i}: {value}\")\n",
    "\n",
    "# Plot de gesimuleerde productiewaarden\n",
    "plt.plot(simulated_data, marker='o')\n",
    "plt.title('Gesimuleerde productiewaarden over de tijd')\n",
    "plt.xlabel('Dag')\n",
    "plt.ylabel('Productie')\n",
    "plt.grid(True)\n",
    "plt.show()\n"
   ]
  },
  {
   "cell_type": "markdown",
   "id": "b413f2bb",
   "metadata": {},
   "source": [
    "Simuleer productie per dag, uitgaand van normale verdeling (obv avg en std, kan via np.random.normal-simulatie)\n",
    "Deze simulatie voor één dag simuleer je 10**5\n",
    "\n",
    "En dit simuleer je voor 7 dagen (dus gebruik model voor periode dat je wil en tel observaties op)\n",
    "Maak er cumulatieve distributieplot van\n",
    "\n",
    "Twee vragen:\n",
    "- Wat met onderscheid? Groene (voll productie) / blauw /  rode (0 productie) steek je apart in model (geel neem je niet mee):\n",
    "(Kans op 0, kans op voll, kans op blauw berekenen?)\n",
    "- Waar zit het 10**5 simuleren in jouw logica? (wat dan daarna voor n (7) dagen moet gesimuleerd worden?\n",
    "\n",
    "\n"
   ]
  },
  {
   "cell_type": "markdown",
   "id": "79112b61-5d21-4e6b-a079-a1325c18adfd",
   "metadata": {},
   "source": [
    "# 7 Gebruik je simulatie"
   ]
  },
  {
   "cell_type": "code",
   "execution_count": null,
   "id": "e6ab00eb-12ca-4417-bedd-e277855d7895",
   "metadata": {},
   "outputs": [],
   "source": [
    "segment_1 = "
   ]
  }
 ],
 "metadata": {
  "kernelspec": {
   "display_name": "Python 3 (ipykernel)",
   "language": "python",
   "name": "python3"
  },
  "language_info": {
   "codemirror_mode": {
    "name": "ipython",
    "version": 3
   },
   "file_extension": ".py",
   "mimetype": "text/x-python",
   "name": "python",
   "nbconvert_exporter": "python",
   "pygments_lexer": "ipython3",
   "version": "3.11.8"
  }
 },
 "nbformat": 4,
 "nbformat_minor": 5
}
