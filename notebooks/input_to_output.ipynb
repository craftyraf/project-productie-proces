{
 "cells": [
  {
   "cell_type": "markdown",
   "id": "b5480ab7-610d-477c-8471-d0bb6459ba06",
   "metadata": {},
   "source": [
    "# Project Productie Proces\n",
    "- Carlo Dieltjens - Raf Mesotten - Yannick Pottiez\n",
    "- April 2024"
   ]
  },
  {
   "cell_type": "markdown",
   "id": "29d2e991-5cad-45cc-932b-417b863c69d0",
   "metadata": {},
   "source": [
    "#### Import necessary external libraries"
   ]
  },
  {
   "cell_type": "code",
   "execution_count": 9,
   "id": "253c5ee2-a871-4902-bef7-14360a90d117",
   "metadata": {},
   "outputs": [],
   "source": [
    "import numpy as np\n",
    "import pandas as pd\n",
    "import matplotlib\n",
    "import matplotlib.pyplot as plt\n",
    "import os\n",
    "import sys\n",
    "# sys.path.append('../scripts')  # Adjust the path accordingly"
   ]
  },
  {
   "cell_type": "markdown",
   "id": "9ba7128f-69ca-4630-8a6b-e6200e5737ad",
   "metadata": {},
   "source": [
    "#### Import custom scripts in the 'scripts' folder"
   ]
  },
  {
   "cell_type": "code",
   "execution_count": 10,
   "id": "039bb969-b9fc-44e2-816b-8502ad97822f",
   "metadata": {},
   "outputs": [],
   "source": [
    "# import XXXXXXXXXXXXXXXXXX as XXXXXXXXXXXXXXXXXX\n",
    "# vb: import image_manipulations as img"
   ]
  },
  {
   "cell_type": "markdown",
   "id": "0e458d3f-5b9e-4670-bb5c-27ee095095dc",
   "metadata": {},
   "source": [
    "#### Define input and output paths"
   ]
  },
  {
   "cell_type": "code",
   "execution_count": 11,
   "id": "27628e05-4db9-44de-880d-3cbc162acc3d",
   "metadata": {},
   "outputs": [],
   "source": [
    "input_path = os.path.join('..', 'data', 'input')\n",
    "output_path = os.path.join('..', 'data', 'output')\n",
    "# absolute_path = os.path.abspath(input_path)\n",
    "# print(absolute_path)"
   ]
  },
  {
   "cell_type": "code",
   "execution_count": null,
   "id": "0279ed2c-1ea9-404a-918c-93042067afc8",
   "metadata": {},
   "outputs": [],
   "source": []
  }
 ],
 "metadata": {
  "kernelspec": {
   "display_name": "Python 3 (ipykernel)",
   "language": "python",
   "name": "python3"
  },
  "language_info": {
   "codemirror_mode": {
    "name": "ipython",
    "version": 3
   },
   "file_extension": ".py",
   "mimetype": "text/x-python",
   "name": "python",
   "nbconvert_exporter": "python",
   "pygments_lexer": "ipython3",
   "version": "3.11.8"
  }
 },
 "nbformat": 4,
 "nbformat_minor": 5
}
